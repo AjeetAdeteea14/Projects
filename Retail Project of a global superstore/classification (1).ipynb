{
 "cells": [
  {
   "cell_type": "code",
   "execution_count": 41,
   "metadata": {},
   "outputs": [],
   "source": [
    "import pandas as pd\n",
    "import numpy as np\n",
    "import matplotlib.pyplot as plt\n",
    "import matplotlib.gridspec as gridspec\n",
    "\n",
    "import seaborn as sns\n",
    "\n",
    "import statsmodels.api as sm\n",
    "from sklearn.svm import SVC\n",
    "\n",
    "import warnings\n",
    "warnings.filterwarnings(\"ignore\")\n",
    "\n",
    "import numpy as np\n",
    "import pandas as pd\n",
    "import matplotlib.pyplot as plt\n",
    "import seaborn as sns\n",
    "from sklearn.metrics import confusion_matrix, accuracy_score, classification_report, roc_auc_score, roc_curve\n",
    "from sklearn.model_selection import train_test_split\n",
    "from sklearn.linear_model import LogisticRegression\n",
    "from sklearn.cluster.hierarchical import AgglomerativeClustering\n",
    "from sklearn.tree import DecisionTreeClassifier\n",
    "from sklearn.neighbors import KNeighborsClassifier\n",
    "from sklearn.ensemble import RandomForestClassifier\n",
    "from sklearn.naive_bayes import GaussianNB\n",
    "import scipy.stats as stats\n",
    "from scipy.cluster.hierarchy import linkage, dendrogram\n",
    "from sklearn.ensemble import BaggingClassifier\n",
    "from sklearn.model_selection import cross_val_score, train_test_split\n",
    "from mlxtend.plotting import plot_learning_curves\n",
    "from mlxtend.plotting import plot_decision_regions\n",
    "from sklearn.ensemble import AdaBoostClassifier\n",
    "from mlxtend.classifier import StackingClassifier\n",
    "import itertools\n",
    "\n",
    "\n",
    "%matplotlib inline"
   ]
  },
  {
   "cell_type": "code",
   "execution_count": 42,
   "metadata": {},
   "outputs": [],
   "source": [
    "pd.set_option('display.max_columns',100)\n",
    "df = pd.read_csv(\"superstore_dataset2011-2015 classification.csv\", encoding = 'unicode_escape')"
   ]
  },
  {
   "cell_type": "code",
   "execution_count": 43,
   "metadata": {},
   "outputs": [
    {
     "data": {
      "text/html": [
       "<div>\n",
       "<style scoped>\n",
       "    .dataframe tbody tr th:only-of-type {\n",
       "        vertical-align: middle;\n",
       "    }\n",
       "\n",
       "    .dataframe tbody tr th {\n",
       "        vertical-align: top;\n",
       "    }\n",
       "\n",
       "    .dataframe thead th {\n",
       "        text-align: right;\n",
       "    }\n",
       "</style>\n",
       "<table border=\"1\" class=\"dataframe\">\n",
       "  <thead>\n",
       "    <tr style=\"text-align: right;\">\n",
       "      <th></th>\n",
       "      <th>Row ID</th>\n",
       "      <th>Order ID</th>\n",
       "      <th>Order Date</th>\n",
       "      <th>Ship Date</th>\n",
       "      <th>Ship Mode</th>\n",
       "      <th>Customer ID</th>\n",
       "      <th>Customer Name</th>\n",
       "      <th>Segment</th>\n",
       "      <th>City</th>\n",
       "      <th>State</th>\n",
       "      <th>Country</th>\n",
       "      <th>Postal Code</th>\n",
       "      <th>Market</th>\n",
       "      <th>Region</th>\n",
       "      <th>Product ID</th>\n",
       "      <th>Category</th>\n",
       "      <th>Sub-Category</th>\n",
       "      <th>Product Name</th>\n",
       "      <th>Sales</th>\n",
       "      <th>Quantity</th>\n",
       "      <th>Discount</th>\n",
       "      <th>Profit</th>\n",
       "      <th>Shipping Cost</th>\n",
       "      <th>Order Priority</th>\n",
       "    </tr>\n",
       "  </thead>\n",
       "  <tbody>\n",
       "    <tr>\n",
       "      <td>0</td>\n",
       "      <td>42433</td>\n",
       "      <td>AG-2011-2040</td>\n",
       "      <td>1/1/2011</td>\n",
       "      <td>6/1/2011</td>\n",
       "      <td>Standard Class</td>\n",
       "      <td>TB-11280</td>\n",
       "      <td>Toby Braunhardt</td>\n",
       "      <td>Consumer</td>\n",
       "      <td>Constantine</td>\n",
       "      <td>Constantine</td>\n",
       "      <td>Algeria</td>\n",
       "      <td>NaN</td>\n",
       "      <td>Africa</td>\n",
       "      <td>Africa</td>\n",
       "      <td>OFF-TEN-10000025</td>\n",
       "      <td>Office Supplies</td>\n",
       "      <td>Storage</td>\n",
       "      <td>Tenex Lockers, Blue</td>\n",
       "      <td>408.300</td>\n",
       "      <td>2</td>\n",
       "      <td>0.0</td>\n",
       "      <td>106.140</td>\n",
       "      <td>35.46</td>\n",
       "      <td>Medium</td>\n",
       "    </tr>\n",
       "    <tr>\n",
       "      <td>1</td>\n",
       "      <td>22253</td>\n",
       "      <td>IN-2011-47883</td>\n",
       "      <td>1/1/2011</td>\n",
       "      <td>8/1/2011</td>\n",
       "      <td>Standard Class</td>\n",
       "      <td>JH-15985</td>\n",
       "      <td>Joseph Holt</td>\n",
       "      <td>Consumer</td>\n",
       "      <td>Wagga Wagga</td>\n",
       "      <td>New South Wales</td>\n",
       "      <td>Australia</td>\n",
       "      <td>NaN</td>\n",
       "      <td>APAC</td>\n",
       "      <td>Oceania</td>\n",
       "      <td>OFF-SU-10000618</td>\n",
       "      <td>Office Supplies</td>\n",
       "      <td>Supplies</td>\n",
       "      <td>Acme Trimmer, High Speed</td>\n",
       "      <td>120.366</td>\n",
       "      <td>3</td>\n",
       "      <td>0.1</td>\n",
       "      <td>36.036</td>\n",
       "      <td>9.72</td>\n",
       "      <td>Medium</td>\n",
       "    </tr>\n",
       "    <tr>\n",
       "      <td>2</td>\n",
       "      <td>48883</td>\n",
       "      <td>HU-2011-1220</td>\n",
       "      <td>1/1/2011</td>\n",
       "      <td>5/1/2011</td>\n",
       "      <td>Second Class</td>\n",
       "      <td>AT-735</td>\n",
       "      <td>Annie Thurman</td>\n",
       "      <td>Consumer</td>\n",
       "      <td>Budapest</td>\n",
       "      <td>Budapest</td>\n",
       "      <td>Hungary</td>\n",
       "      <td>NaN</td>\n",
       "      <td>EMEA</td>\n",
       "      <td>EMEA</td>\n",
       "      <td>OFF-TEN-10001585</td>\n",
       "      <td>Office Supplies</td>\n",
       "      <td>Storage</td>\n",
       "      <td>Tenex Box, Single Width</td>\n",
       "      <td>66.120</td>\n",
       "      <td>4</td>\n",
       "      <td>0.0</td>\n",
       "      <td>29.640</td>\n",
       "      <td>8.17</td>\n",
       "      <td>High</td>\n",
       "    </tr>\n",
       "    <tr>\n",
       "      <td>3</td>\n",
       "      <td>11731</td>\n",
       "      <td>IT-2011-3647632</td>\n",
       "      <td>1/1/2011</td>\n",
       "      <td>5/1/2011</td>\n",
       "      <td>Second Class</td>\n",
       "      <td>EM-14140</td>\n",
       "      <td>Eugene Moren</td>\n",
       "      <td>Home Office</td>\n",
       "      <td>Stockholm</td>\n",
       "      <td>Stockholm</td>\n",
       "      <td>Sweden</td>\n",
       "      <td>NaN</td>\n",
       "      <td>EU</td>\n",
       "      <td>North</td>\n",
       "      <td>OFF-PA-10001492</td>\n",
       "      <td>Office Supplies</td>\n",
       "      <td>Paper</td>\n",
       "      <td>Enermax Note Cards, Premium</td>\n",
       "      <td>44.865</td>\n",
       "      <td>3</td>\n",
       "      <td>0.5</td>\n",
       "      <td>-26.055</td>\n",
       "      <td>4.82</td>\n",
       "      <td>High</td>\n",
       "    </tr>\n",
       "    <tr>\n",
       "      <td>4</td>\n",
       "      <td>22255</td>\n",
       "      <td>IN-2011-47883</td>\n",
       "      <td>1/1/2011</td>\n",
       "      <td>8/1/2011</td>\n",
       "      <td>Standard Class</td>\n",
       "      <td>JH-15985</td>\n",
       "      <td>Joseph Holt</td>\n",
       "      <td>Consumer</td>\n",
       "      <td>Wagga Wagga</td>\n",
       "      <td>New South Wales</td>\n",
       "      <td>Australia</td>\n",
       "      <td>NaN</td>\n",
       "      <td>APAC</td>\n",
       "      <td>Oceania</td>\n",
       "      <td>FUR-FU-10003447</td>\n",
       "      <td>Furniture</td>\n",
       "      <td>Furnishings</td>\n",
       "      <td>Eldon Light Bulb, Duo Pack</td>\n",
       "      <td>113.670</td>\n",
       "      <td>5</td>\n",
       "      <td>0.1</td>\n",
       "      <td>37.770</td>\n",
       "      <td>4.70</td>\n",
       "      <td>Medium</td>\n",
       "    </tr>\n",
       "  </tbody>\n",
       "</table>\n",
       "</div>"
      ],
      "text/plain": [
       "   Row ID         Order ID Order Date Ship Date       Ship Mode Customer ID  \\\n",
       "0   42433     AG-2011-2040   1/1/2011  6/1/2011  Standard Class    TB-11280   \n",
       "1   22253    IN-2011-47883   1/1/2011  8/1/2011  Standard Class    JH-15985   \n",
       "2   48883     HU-2011-1220   1/1/2011  5/1/2011    Second Class      AT-735   \n",
       "3   11731  IT-2011-3647632   1/1/2011  5/1/2011    Second Class    EM-14140   \n",
       "4   22255    IN-2011-47883   1/1/2011  8/1/2011  Standard Class    JH-15985   \n",
       "\n",
       "     Customer Name      Segment         City            State    Country  \\\n",
       "0  Toby Braunhardt     Consumer  Constantine      Constantine    Algeria   \n",
       "1      Joseph Holt     Consumer  Wagga Wagga  New South Wales  Australia   \n",
       "2    Annie Thurman     Consumer     Budapest         Budapest    Hungary   \n",
       "3     Eugene Moren  Home Office    Stockholm        Stockholm     Sweden   \n",
       "4      Joseph Holt     Consumer  Wagga Wagga  New South Wales  Australia   \n",
       "\n",
       "   Postal Code  Market   Region        Product ID         Category  \\\n",
       "0          NaN  Africa   Africa  OFF-TEN-10000025  Office Supplies   \n",
       "1          NaN    APAC  Oceania   OFF-SU-10000618  Office Supplies   \n",
       "2          NaN    EMEA     EMEA  OFF-TEN-10001585  Office Supplies   \n",
       "3          NaN      EU    North   OFF-PA-10001492  Office Supplies   \n",
       "4          NaN    APAC  Oceania   FUR-FU-10003447        Furniture   \n",
       "\n",
       "  Sub-Category                 Product Name    Sales  Quantity  Discount  \\\n",
       "0      Storage          Tenex Lockers, Blue  408.300         2       0.0   \n",
       "1     Supplies     Acme Trimmer, High Speed  120.366         3       0.1   \n",
       "2      Storage      Tenex Box, Single Width   66.120         4       0.0   \n",
       "3        Paper  Enermax Note Cards, Premium   44.865         3       0.5   \n",
       "4  Furnishings   Eldon Light Bulb, Duo Pack  113.670         5       0.1   \n",
       "\n",
       "    Profit  Shipping Cost Order Priority  \n",
       "0  106.140          35.46         Medium  \n",
       "1   36.036           9.72         Medium  \n",
       "2   29.640           8.17           High  \n",
       "3  -26.055           4.82           High  \n",
       "4   37.770           4.70         Medium  "
      ]
     },
     "execution_count": 43,
     "metadata": {},
     "output_type": "execute_result"
    }
   ],
   "source": [
    "df.head()"
   ]
  },
  {
   "cell_type": "code",
   "execution_count": 44,
   "metadata": {},
   "outputs": [
    {
     "name": "stdout",
     "output_type": "stream",
     "text": [
      "<class 'pandas.core.frame.DataFrame'>\n",
      "RangeIndex: 51290 entries, 0 to 51289\n",
      "Data columns (total 24 columns):\n",
      "Row ID            51290 non-null int64\n",
      "Order ID          51290 non-null object\n",
      "Order Date        51290 non-null object\n",
      "Ship Date         51290 non-null object\n",
      "Ship Mode         51290 non-null object\n",
      "Customer ID       51290 non-null object\n",
      "Customer Name     51290 non-null object\n",
      "Segment           51290 non-null object\n",
      "City              51290 non-null object\n",
      "State             51290 non-null object\n",
      "Country           51290 non-null object\n",
      "Postal Code       9994 non-null float64\n",
      "Market            51290 non-null object\n",
      "Region            51290 non-null object\n",
      "Product ID        51290 non-null object\n",
      "Category          51290 non-null object\n",
      "Sub-Category      51290 non-null object\n",
      "Product Name      51290 non-null object\n",
      "Sales             51290 non-null float64\n",
      "Quantity          51290 non-null int64\n",
      "Discount          51290 non-null float64\n",
      "Profit            51290 non-null float64\n",
      "Shipping Cost     51290 non-null float64\n",
      "Order Priority    51290 non-null object\n",
      "dtypes: float64(5), int64(2), object(17)\n",
      "memory usage: 9.4+ MB\n"
     ]
    }
   ],
   "source": [
    "df.info()"
   ]
  },
  {
   "cell_type": "code",
   "execution_count": 45,
   "metadata": {},
   "outputs": [
    {
     "name": "stdout",
     "output_type": "stream",
     "text": [
      "2047     1\n",
      "35460    1\n",
      "661      1\n",
      "2708     1\n",
      "12947    1\n",
      "        ..\n",
      "46396    1\n",
      "36155    1\n",
      "34106    1\n",
      "40249    1\n",
      "2049     1\n",
      "Name: Row ID, Length: 51290, dtype: int64\n",
      "CA-2014-100111     14\n",
      "NI-2014-8880       13\n",
      "TO-2014-9950       13\n",
      "MX-2014-166541     13\n",
      "IN-2012-41261      13\n",
      "                   ..\n",
      "CA-2014-166296      1\n",
      "US-2014-125626      1\n",
      "MX-2012-151211      1\n",
      "MX-2014-165694      1\n",
      "ES-2013-4638107     1\n",
      "Name: Order ID, Length: 25035, dtype: int64\n",
      "18-06-2014    135\n",
      "18-11-2014    127\n",
      "3/9/2014      126\n",
      "20-11-2014    118\n",
      "29-12-2014    116\n",
      "             ... \n",
      "13-02-2011      1\n",
      "15-07-2012      1\n",
      "6/1/2013        1\n",
      "19-06-2011      1\n",
      "17-03-2013      1\n",
      "Name: Order Date, Length: 1430, dtype: int64\n",
      "22-11-2014    130\n",
      "7/9/2014      115\n",
      "7/12/2014     101\n",
      "17-11-2014    101\n",
      "29-11-2014    100\n",
      "             ... \n",
      "21-03-2013      3\n",
      "25-01-2011      3\n",
      "3/1/2011        2\n",
      "6/1/2011        2\n",
      "5/1/2011        2\n",
      "Name: Ship Date, Length: 1464, dtype: int64\n",
      "Standard Class    30775\n",
      "Second Class      10309\n",
      "First Class        7505\n",
      "Same Day           2701\n",
      "Name: Ship Mode, dtype: int64\n",
      "PO-18850    97\n",
      "BE-11335    94\n",
      "JG-15805    90\n",
      "SW-20755    89\n",
      "EM-13960    85\n",
      "            ..\n",
      "BG-1035      1\n",
      "RC-9825      1\n",
      "MG-7890      1\n",
      "MG-7650      1\n",
      "ZC-11910     1\n",
      "Name: Customer ID, Length: 1590, dtype: int64\n",
      "Muhammed Yedwab    108\n",
      "Steven Ward        106\n",
      "Bill Eplett        102\n",
      "Patrick O'Brill    102\n",
      "Gary Hwang         102\n",
      "                  ... \n",
      "Emily Burns         35\n",
      "David Bremer        34\n",
      "Nicole Brennan      31\n",
      "Darren Budd         31\n",
      "Michael Oakman      29\n",
      "Name: Customer Name, Length: 795, dtype: int64\n",
      "Consumer       26518\n",
      "Corporate      15429\n",
      "Home Office     9343\n",
      "Name: Segment, dtype: int64\n",
      "New York City    915\n",
      "Los Angeles      747\n",
      "Philadelphia     537\n",
      "San Francisco    510\n",
      "Santo Domingo    443\n",
      "                ... \n",
      "Kiziltepe          1\n",
      "Bartlett           1\n",
      "Floriano           1\n",
      "Guarapuava         1\n",
      "Guarapari          1\n",
      "Name: City, Length: 3636, dtype: int64\n",
      "California       2001\n",
      "England          1499\n",
      "New York         1128\n",
      "Texas             985\n",
      "Ile-de-France     981\n",
      "                 ... \n",
      "Lambayeque          1\n",
      "Okayama             1\n",
      "Yevrey              1\n",
      "Arad                1\n",
      "Novosibirsk         1\n",
      "Name: State, Length: 1094, dtype: int64\n",
      "United States    9994\n",
      "Australia        2837\n",
      "France           2827\n",
      "Mexico           2644\n",
      "Germany          2065\n",
      "                 ... \n",
      "Chad                2\n",
      "Swaziland           2\n",
      "Burundi             2\n",
      "South Sudan         2\n",
      "Eritrea             2\n",
      "Name: Country, Length: 147, dtype: int64\n",
      "10035.0    263\n",
      "10024.0    230\n",
      "10009.0    229\n",
      "94122.0    203\n",
      "10011.0    193\n",
      "          ... \n",
      "94061.0      1\n",
      "68701.0      1\n",
      "60302.0      1\n",
      "96003.0      1\n",
      "92563.0      1\n",
      "Name: Postal Code, Length: 631, dtype: int64\n",
      "APAC      11002\n",
      "LATAM     10294\n",
      "EU        10000\n",
      "US         9994\n",
      "EMEA       5029\n",
      "Africa     4587\n",
      "Canada      384\n",
      "Name: Market, dtype: int64\n",
      "Central           11117\n",
      "South              6645\n",
      "EMEA               5029\n",
      "North              4785\n",
      "Africa             4587\n",
      "Oceania            3487\n",
      "West               3203\n",
      "Southeast Asia     3129\n",
      "East               2848\n",
      "North Asia         2338\n",
      "Central Asia       2048\n",
      "Caribbean          1690\n",
      "Canada              384\n",
      "Name: Region, dtype: int64\n",
      "OFF-AR-10003651    35\n",
      "OFF-AR-10003829    31\n",
      "OFF-BI-10003708    30\n",
      "OFF-BI-10002799    30\n",
      "FUR-CH-10003354    28\n",
      "                   ..\n",
      "FUR-CH-10002275     1\n",
      "TEC-AC-10004715     1\n",
      "TEC-AC-10002938     1\n",
      "OFF-PA-10000373     1\n",
      "OFF-SU-10003545     1\n",
      "Name: Product ID, Length: 10292, dtype: int64\n",
      "Office Supplies    31273\n",
      "Technology         10141\n",
      "Furniture           9876\n",
      "Name: Category, dtype: int64\n",
      "Binders        6152\n",
      "Storage        5059\n",
      "Art            4883\n",
      "Paper          3538\n",
      "Chairs         3434\n",
      "Phones         3357\n",
      "Furnishings    3170\n",
      "Accessories    3075\n",
      "Labels         2606\n",
      "Envelopes      2435\n",
      "Supplies       2425\n",
      "Fasteners      2420\n",
      "Bookcases      2411\n",
      "Copiers        2223\n",
      "Appliances     1755\n",
      "Machines       1486\n",
      "Tables          861\n",
      "Name: Sub-Category, dtype: int64\n",
      "Staples                                               227\n",
      "Cardinal Index Tab, Clear                              92\n",
      "Eldon File Cart, Single Width                          90\n",
      "Rogers File Cart, Single Width                         84\n",
      "Ibico Index Tab, Clear                                 83\n",
      "                                                     ... \n",
      "Holmes Harmony HEPA Air Purifier for 17 x 20 Room       1\n",
      "Wasp CCD Handheld Bar Code Reader                       1\n",
      "Cisco SPA525G2 5-Line IP Phone                          1\n",
      "Avery 484                                               1\n",
      "Memorex Mini Travel Drive 4 GB USB 2.0 Flash Drive      1\n",
      "Name: Product Name, Length: 3788, dtype: int64\n",
      "12.960     66\n",
      "25.920     50\n",
      "19.440     43\n",
      "32.400     42\n",
      "15.552     41\n",
      "           ..\n",
      "501.660     1\n",
      "283.320     1\n",
      "541.518     1\n",
      "178.380     1\n",
      "318.360     1\n",
      "Name: Sales, Length: 22995, dtype: int64\n",
      "2     12748\n",
      "3      9682\n",
      "1      8963\n",
      "4      6385\n",
      "5      4882\n",
      "6      3020\n",
      "7      2385\n",
      "8      1361\n",
      "9       987\n",
      "10      276\n",
      "14      186\n",
      "12      176\n",
      "11      156\n",
      "13       83\n",
      "Name: Quantity, dtype: int64\n",
      "0.000    29009\n",
      "0.200     4998\n",
      "0.100     4068\n",
      "0.400     3177\n",
      "0.600     2006\n",
      "0.700     1786\n",
      "0.500     1633\n",
      "0.170      735\n",
      "0.470      725\n",
      "0.150      541\n",
      "0.002      461\n",
      "0.270      388\n",
      "0.300      340\n",
      "0.450      327\n",
      "0.800      316\n",
      "0.250      198\n",
      "0.070      150\n",
      "0.350      122\n",
      "0.402      104\n",
      "0.370       74\n",
      "0.202       41\n",
      "0.320       27\n",
      "0.602       23\n",
      "0.650       17\n",
      "0.570       12\n",
      "0.550       10\n",
      "0.850        2\n",
      "Name: Discount, dtype: int64\n",
      " 0.0000      668\n",
      " 4.3200       70\n",
      " 3.9600       69\n",
      " 7.9200       67\n",
      " 2.6400       63\n",
      "            ... \n",
      " 16.0600       1\n",
      " 117.9840      1\n",
      " 91.9954       1\n",
      " 352.2960      1\n",
      "-50.1750       1\n",
      "Name: Profit, Length: 24575, dtype: int64\n",
      "0.86      76\n",
      "1.26      75\n",
      "0.71      75\n",
      "1.36      74\n",
      "0.35      73\n",
      "          ..\n",
      "75.87      1\n",
      "116.27     1\n",
      "52.65      1\n",
      "85.77      1\n",
      "241.34     1\n",
      "Name: Shipping Cost, Length: 10037, dtype: int64\n",
      "Medium      29433\n",
      "High        15501\n",
      "Critical     3932\n",
      "Low          2424\n",
      "Name: Order Priority, dtype: int64\n"
     ]
    }
   ],
   "source": [
    "for i in df.columns:\n",
    "    print(df[i].value_counts())"
   ]
  },
  {
   "cell_type": "code",
   "execution_count": 46,
   "metadata": {},
   "outputs": [
    {
     "name": "stdout",
     "output_type": "stream",
     "text": [
      "Row ID 51290\n",
      "Order ID 25035\n",
      "Order Date 1430\n",
      "Ship Date 1464\n",
      "Ship Mode 4\n",
      "Customer ID 1590\n",
      "Customer Name 795\n",
      "Segment 3\n",
      "City 3636\n",
      "State 1094\n",
      "Country 147\n",
      "Postal Code 632\n",
      "Market 7\n",
      "Region 13\n",
      "Product ID 10292\n",
      "Category 3\n",
      "Sub-Category 17\n",
      "Product Name 3788\n",
      "Sales 22995\n",
      "Quantity 14\n",
      "Discount 27\n",
      "Profit 24575\n",
      "Shipping Cost 10037\n",
      "Order Priority 4\n"
     ]
    }
   ],
   "source": [
    "for i in df.columns:\n",
    "    print(i,len(df[i].unique()))"
   ]
  },
  {
   "cell_type": "code",
   "execution_count": 47,
   "metadata": {},
   "outputs": [
    {
     "name": "stdout",
     "output_type": "stream",
     "text": [
      "Order ID 25035\n",
      "Order Date 1430\n",
      "Ship Date 1464\n",
      "Ship Mode 4\n",
      "Customer ID 1590\n",
      "Customer Name 795\n",
      "Segment 3\n",
      "City 3636\n",
      "State 1094\n",
      "Country 147\n",
      "Market 7\n",
      "Region 13\n",
      "Product ID 10292\n",
      "Category 3\n",
      "Sub-Category 17\n",
      "Product Name 3788\n",
      "Order Priority 4\n"
     ]
    }
   ],
   "source": [
    "for i in df.select_dtypes(include = ['object','bool']):\n",
    "    print(i,len(df[i].unique()))"
   ]
  },
  {
   "cell_type": "code",
   "execution_count": 48,
   "metadata": {},
   "outputs": [
    {
     "data": {
      "text/html": [
       "<div>\n",
       "<style scoped>\n",
       "    .dataframe tbody tr th:only-of-type {\n",
       "        vertical-align: middle;\n",
       "    }\n",
       "\n",
       "    .dataframe tbody tr th {\n",
       "        vertical-align: top;\n",
       "    }\n",
       "\n",
       "    .dataframe thead th {\n",
       "        text-align: right;\n",
       "    }\n",
       "</style>\n",
       "<table border=\"1\" class=\"dataframe\">\n",
       "  <thead>\n",
       "    <tr style=\"text-align: right;\">\n",
       "      <th>Order Priority</th>\n",
       "      <th>Critical</th>\n",
       "      <th>High</th>\n",
       "      <th>Low</th>\n",
       "      <th>Medium</th>\n",
       "    </tr>\n",
       "    <tr>\n",
       "      <th>Ship Mode</th>\n",
       "      <th></th>\n",
       "      <th></th>\n",
       "      <th></th>\n",
       "      <th></th>\n",
       "    </tr>\n",
       "  </thead>\n",
       "  <tbody>\n",
       "    <tr>\n",
       "      <td>First Class</td>\n",
       "      <td>1734</td>\n",
       "      <td>3413</td>\n",
       "      <td>0</td>\n",
       "      <td>2358</td>\n",
       "    </tr>\n",
       "    <tr>\n",
       "      <td>Same Day</td>\n",
       "      <td>742</td>\n",
       "      <td>1269</td>\n",
       "      <td>0</td>\n",
       "      <td>690</td>\n",
       "    </tr>\n",
       "    <tr>\n",
       "      <td>Second Class</td>\n",
       "      <td>1456</td>\n",
       "      <td>4010</td>\n",
       "      <td>0</td>\n",
       "      <td>4843</td>\n",
       "    </tr>\n",
       "    <tr>\n",
       "      <td>Standard Class</td>\n",
       "      <td>0</td>\n",
       "      <td>6809</td>\n",
       "      <td>2424</td>\n",
       "      <td>21542</td>\n",
       "    </tr>\n",
       "  </tbody>\n",
       "</table>\n",
       "</div>"
      ],
      "text/plain": [
       "Order Priority  Critical  High   Low  Medium\n",
       "Ship Mode                                   \n",
       "First Class         1734  3413     0    2358\n",
       "Same Day             742  1269     0     690\n",
       "Second Class        1456  4010     0    4843\n",
       "Standard Class         0  6809  2424   21542"
      ]
     },
     "execution_count": 48,
     "metadata": {},
     "output_type": "execute_result"
    }
   ],
   "source": [
    "cross1 = pd.crosstab(df['Ship Mode'],df['Order Priority'])\n",
    "cross1"
   ]
  },
  {
   "cell_type": "code",
   "execution_count": 49,
   "metadata": {},
   "outputs": [
    {
     "data": {
      "text/plain": [
       "<matplotlib.axes._subplots.AxesSubplot at 0x1e5dcf67cc0>"
      ]
     },
     "execution_count": 49,
     "metadata": {},
     "output_type": "execute_result"
    },
    {
     "data": {
      "image/png": "[encoded data removed]",
      "text/plain": [
       "<Figure size 432x288 with 1 Axes>"
      ]
     },
     "metadata": {
      "needs_background": "light"
     },
     "output_type": "display_data"
    }
   ],
   "source": [
    "z=cross1.groupby(cross1.index).sum()\n",
    "\n",
    "z.plot.bar(stacked=True)"
   ]
  },
  {
   "cell_type": "code",
   "execution_count": 50,
   "metadata": {},
   "outputs": [
    {
     "data": {
      "text/plain": [
       "<matplotlib.axes._subplots.AxesSubplot at 0x1e5c84f2e10>"
      ]
     },
     "execution_count": 50,
     "metadata": {},
     "output_type": "execute_result"
    },
    {
     "data": {
      "image/png": "[encoded data removed]",
      "text/plain": [
       "<Figure size 432x288 with 1 Axes>"
      ]
     },
     "metadata": {
      "needs_background": "light"
     },
     "output_type": "display_data"
    }
   ],
   "source": [
    "z=cross1.T.groupby(cross1.columns).sum()\n",
    "\n",
    "z.plot.bar(stacked=True)"
   ]
  },
  {
   "cell_type": "code",
   "execution_count": 51,
   "metadata": {},
   "outputs": [
    {
     "data": {
      "text/plain": [
       "<matplotlib.axes._subplots.AxesSubplot at 0x1e5e35ae668>"
      ]
     },
     "execution_count": 51,
     "metadata": {},
     "output_type": "execute_result"
    },
    {
     "data": {
      "image/png": "[encoded data removed]",
      "text/plain": [
       "<Figure size 432x288 with 1 Axes>"
      ]
     },
     "metadata": {
      "needs_background": "light"
     },
     "output_type": "display_data"
    }
   ],
   "source": [
    "df['Sales'].plot(kind = 'box')"
   ]
  },
  {
   "cell_type": "code",
   "execution_count": 52,
   "metadata": {},
   "outputs": [
    {
     "data": {
      "text/plain": [
       "<matplotlib.axes._subplots.AxesSubplot at 0x1e5e3500048>"
      ]
     },
     "execution_count": 52,
     "metadata": {},
     "output_type": "execute_result"
    },
    {
     "data": {
      "image/png": "[encoded data removed]",
      "text/plain": [
       "<Figure size 432x864 with 1 Axes>"
      ]
     },
     "metadata": {
      "needs_background": "light"
     },
     "output_type": "display_data"
    }
   ],
   "source": [
    "df['Profit'].plot(kind = 'box',figsize=(6,12))"
   ]
  },
  {
   "cell_type": "code",
   "execution_count": 53,
   "metadata": {},
   "outputs": [
    {
     "data": {
      "text/plain": [
       "<matplotlib.axes._subplots.AxesSubplot at 0x1e5e3ed13c8>"
      ]
     },
     "execution_count": 53,
     "metadata": {},
     "output_type": "execute_result"
    },
    {
     "data": {
      "image/png": "[encoded data removed]",
      "text/plain": [
       "<Figure size 432x288 with 1 Axes>"
      ]
     },
     "metadata": {
      "needs_background": "light"
     },
     "output_type": "display_data"
    }
   ],
   "source": [
    "sns.countplot(df['Market'])"
   ]
  },
  {
   "cell_type": "code",
   "execution_count": 54,
   "metadata": {},
   "outputs": [
    {
     "data": {
      "text/plain": [
       "<matplotlib.axes._subplots.AxesSubplot at 0x1e5e35aec18>"
      ]
     },
     "execution_count": 54,
     "metadata": {},
     "output_type": "execute_result"
    },
    {
     "data": {
      "image/png": "[encoded data removed]",
      "text/plain": [
       "<Figure size 864x432 with 1 Axes>"
      ]
     },
     "metadata": {
      "needs_background": "light"
     },
     "output_type": "display_data"
    }
   ],
   "source": [
    "plt.figure(figsize = (12,6))\n",
    "sns.countplot(df['Sub-Category'])"
   ]
  },
  {
   "cell_type": "code",
   "execution_count": 55,
   "metadata": {},
   "outputs": [
    {
     "data": {
      "text/plain": [
       "<matplotlib.axes._subplots.AxesSubplot at 0x1e5e418c208>"
      ]
     },
     "execution_count": 55,
     "metadata": {},
     "output_type": "execute_result"
    },
    {
     "data": {
      "image/png": "[encoded data removed]",
      "text/plain": [
       "<Figure size 432x288 with 1 Axes>"
      ]
     },
     "metadata": {
      "needs_background": "light"
     },
     "output_type": "display_data"
    }
   ],
   "source": [
    "df['Profit'].plot(kind = 'hist')"
   ]
  },
  {
   "cell_type": "code",
   "execution_count": 56,
   "metadata": {},
   "outputs": [
    {
     "data": {
      "text/html": [
       "<div>\n",
       "<style scoped>\n",
       "    .dataframe tbody tr th:only-of-type {\n",
       "        vertical-align: middle;\n",
       "    }\n",
       "\n",
       "    .dataframe tbody tr th {\n",
       "        vertical-align: top;\n",
       "    }\n",
       "\n",
       "    .dataframe thead th {\n",
       "        text-align: right;\n",
       "    }\n",
       "</style>\n",
       "<table border=\"1\" class=\"dataframe\">\n",
       "  <thead>\n",
       "    <tr style=\"text-align: right;\">\n",
       "      <th></th>\n",
       "      <th>Row ID</th>\n",
       "      <th>Postal Code</th>\n",
       "      <th>Sales</th>\n",
       "      <th>Quantity</th>\n",
       "      <th>Discount</th>\n",
       "      <th>Profit</th>\n",
       "      <th>Shipping Cost</th>\n",
       "    </tr>\n",
       "  </thead>\n",
       "  <tbody>\n",
       "    <tr>\n",
       "      <td>count</td>\n",
       "      <td>51290.00000</td>\n",
       "      <td>9994.000000</td>\n",
       "      <td>51290.000000</td>\n",
       "      <td>51290.000000</td>\n",
       "      <td>51290.000000</td>\n",
       "      <td>51290.000000</td>\n",
       "      <td>51290.000000</td>\n",
       "    </tr>\n",
       "    <tr>\n",
       "      <td>mean</td>\n",
       "      <td>25645.50000</td>\n",
       "      <td>55190.379428</td>\n",
       "      <td>246.490581</td>\n",
       "      <td>3.476545</td>\n",
       "      <td>0.142908</td>\n",
       "      <td>28.610982</td>\n",
       "      <td>26.375915</td>\n",
       "    </tr>\n",
       "    <tr>\n",
       "      <td>std</td>\n",
       "      <td>14806.29199</td>\n",
       "      <td>32063.693350</td>\n",
       "      <td>487.565361</td>\n",
       "      <td>2.278766</td>\n",
       "      <td>0.212280</td>\n",
       "      <td>174.340972</td>\n",
       "      <td>57.296804</td>\n",
       "    </tr>\n",
       "    <tr>\n",
       "      <td>min</td>\n",
       "      <td>1.00000</td>\n",
       "      <td>1040.000000</td>\n",
       "      <td>0.444000</td>\n",
       "      <td>1.000000</td>\n",
       "      <td>0.000000</td>\n",
       "      <td>-6599.978000</td>\n",
       "      <td>0.000000</td>\n",
       "    </tr>\n",
       "    <tr>\n",
       "      <td>25%</td>\n",
       "      <td>12823.25000</td>\n",
       "      <td>23223.000000</td>\n",
       "      <td>30.758625</td>\n",
       "      <td>2.000000</td>\n",
       "      <td>0.000000</td>\n",
       "      <td>0.000000</td>\n",
       "      <td>2.610000</td>\n",
       "    </tr>\n",
       "    <tr>\n",
       "      <td>50%</td>\n",
       "      <td>25645.50000</td>\n",
       "      <td>56430.500000</td>\n",
       "      <td>85.053000</td>\n",
       "      <td>3.000000</td>\n",
       "      <td>0.000000</td>\n",
       "      <td>9.240000</td>\n",
       "      <td>7.790000</td>\n",
       "    </tr>\n",
       "    <tr>\n",
       "      <td>75%</td>\n",
       "      <td>38467.75000</td>\n",
       "      <td>90008.000000</td>\n",
       "      <td>251.053200</td>\n",
       "      <td>5.000000</td>\n",
       "      <td>0.200000</td>\n",
       "      <td>36.810000</td>\n",
       "      <td>24.450000</td>\n",
       "    </tr>\n",
       "    <tr>\n",
       "      <td>max</td>\n",
       "      <td>51290.00000</td>\n",
       "      <td>99301.000000</td>\n",
       "      <td>22638.480000</td>\n",
       "      <td>14.000000</td>\n",
       "      <td>0.850000</td>\n",
       "      <td>8399.976000</td>\n",
       "      <td>933.570000</td>\n",
       "    </tr>\n",
       "  </tbody>\n",
       "</table>\n",
       "</div>"
      ],
      "text/plain": [
       "            Row ID   Postal Code         Sales      Quantity      Discount  \\\n",
       "count  51290.00000   9994.000000  51290.000000  51290.000000  51290.000000   \n",
       "mean   25645.50000  55190.379428    246.490581      3.476545      0.142908   \n",
       "std    14806.29199  32063.693350    487.565361      2.278766      0.212280   \n",
       "min        1.00000   1040.000000      0.444000      1.000000      0.000000   \n",
       "25%    12823.25000  23223.000000     30.758625      2.000000      0.000000   \n",
       "50%    25645.50000  56430.500000     85.053000      3.000000      0.000000   \n",
       "75%    38467.75000  90008.000000    251.053200      5.000000      0.200000   \n",
       "max    51290.00000  99301.000000  22638.480000     14.000000      0.850000   \n",
       "\n",
       "             Profit  Shipping Cost  \n",
       "count  51290.000000   51290.000000  \n",
       "mean      28.610982      26.375915  \n",
       "std      174.340972      57.296804  \n",
       "min    -6599.978000       0.000000  \n",
       "25%        0.000000       2.610000  \n",
       "50%        9.240000       7.790000  \n",
       "75%       36.810000      24.450000  \n",
       "max     8399.976000     933.570000  "
      ]
     },
     "execution_count": 56,
     "metadata": {},
     "output_type": "execute_result"
    }
   ],
   "source": [
    "df.describe()"
   ]
  },
  {
   "cell_type": "code",
   "execution_count": 57,
   "metadata": {},
   "outputs": [
    {
     "data": {
      "text/plain": [
       "Index(['Row ID', 'Order ID', 'Order Date', 'Ship Date', 'Ship Mode',\n",
       "       'Customer ID', 'Customer Name', 'Segment', 'City', 'State', 'Country',\n",
       "       'Postal Code', 'Market', 'Region', 'Product ID', 'Category',\n",
       "       'Sub-Category', 'Product Name', 'Sales', 'Quantity', 'Discount',\n",
       "       'Profit', 'Shipping Cost', 'Order Priority'],\n",
       "      dtype='object')"
      ]
     },
     "execution_count": 57,
     "metadata": {},
     "output_type": "execute_result"
    }
   ],
   "source": [
    "df.columns"
   ]
  },
  {
   "cell_type": "code",
   "execution_count": 58,
   "metadata": {},
   "outputs": [
    {
     "data": {
      "text/html": [
       "<div>\n",
       "<style scoped>\n",
       "    .dataframe tbody tr th:only-of-type {\n",
       "        vertical-align: middle;\n",
       "    }\n",
       "\n",
       "    .dataframe tbody tr th {\n",
       "        vertical-align: top;\n",
       "    }\n",
       "\n",
       "    .dataframe thead th {\n",
       "        text-align: right;\n",
       "    }\n",
       "</style>\n",
       "<table border=\"1\" class=\"dataframe\">\n",
       "  <thead>\n",
       "    <tr style=\"text-align: right;\">\n",
       "      <th></th>\n",
       "      <th>Ship Mode</th>\n",
       "      <th>Segment</th>\n",
       "      <th>Quantity</th>\n",
       "      <th>Order Priority</th>\n",
       "      <th>Sales</th>\n",
       "      <th>Discount</th>\n",
       "      <th>Profit</th>\n",
       "      <th>Shipping Cost</th>\n",
       "      <th>Category</th>\n",
       "    </tr>\n",
       "  </thead>\n",
       "  <tbody>\n",
       "    <tr>\n",
       "      <td>0</td>\n",
       "      <td>Standard Class</td>\n",
       "      <td>Consumer</td>\n",
       "      <td>2</td>\n",
       "      <td>Medium</td>\n",
       "      <td>408.300</td>\n",
       "      <td>0.0</td>\n",
       "      <td>106.140</td>\n",
       "      <td>35.46</td>\n",
       "      <td>Office Supplies</td>\n",
       "    </tr>\n",
       "    <tr>\n",
       "      <td>1</td>\n",
       "      <td>Standard Class</td>\n",
       "      <td>Consumer</td>\n",
       "      <td>3</td>\n",
       "      <td>Medium</td>\n",
       "      <td>120.366</td>\n",
       "      <td>0.1</td>\n",
       "      <td>36.036</td>\n",
       "      <td>9.72</td>\n",
       "      <td>Office Supplies</td>\n",
       "    </tr>\n",
       "    <tr>\n",
       "      <td>2</td>\n",
       "      <td>Second Class</td>\n",
       "      <td>Consumer</td>\n",
       "      <td>4</td>\n",
       "      <td>High</td>\n",
       "      <td>66.120</td>\n",
       "      <td>0.0</td>\n",
       "      <td>29.640</td>\n",
       "      <td>8.17</td>\n",
       "      <td>Office Supplies</td>\n",
       "    </tr>\n",
       "    <tr>\n",
       "      <td>3</td>\n",
       "      <td>Second Class</td>\n",
       "      <td>Home Office</td>\n",
       "      <td>3</td>\n",
       "      <td>High</td>\n",
       "      <td>44.865</td>\n",
       "      <td>0.5</td>\n",
       "      <td>-26.055</td>\n",
       "      <td>4.82</td>\n",
       "      <td>Office Supplies</td>\n",
       "    </tr>\n",
       "    <tr>\n",
       "      <td>4</td>\n",
       "      <td>Standard Class</td>\n",
       "      <td>Consumer</td>\n",
       "      <td>5</td>\n",
       "      <td>Medium</td>\n",
       "      <td>113.670</td>\n",
       "      <td>0.1</td>\n",
       "      <td>37.770</td>\n",
       "      <td>4.70</td>\n",
       "      <td>Furniture</td>\n",
       "    </tr>\n",
       "  </tbody>\n",
       "</table>\n",
       "</div>"
      ],
      "text/plain": [
       "        Ship Mode      Segment  Quantity Order Priority    Sales  Discount  \\\n",
       "0  Standard Class     Consumer         2         Medium  408.300       0.0   \n",
       "1  Standard Class     Consumer         3         Medium  120.366       0.1   \n",
       "2    Second Class     Consumer         4           High   66.120       0.0   \n",
       "3    Second Class  Home Office         3           High   44.865       0.5   \n",
       "4  Standard Class     Consumer         5         Medium  113.670       0.1   \n",
       "\n",
       "    Profit  Shipping Cost         Category  \n",
       "0  106.140          35.46  Office Supplies  \n",
       "1   36.036           9.72  Office Supplies  \n",
       "2   29.640           8.17  Office Supplies  \n",
       "3  -26.055           4.82  Office Supplies  \n",
       "4   37.770           4.70        Furniture  "
      ]
     },
     "execution_count": 58,
     "metadata": {},
     "output_type": "execute_result"
    }
   ],
   "source": [
    "ds = df[['Ship Mode','Segment','Quantity','Order Priority','Sales','Discount','Profit','Shipping Cost','Category']]\n",
    "ds.head()"
   ]
  },
  {
   "cell_type": "code",
   "execution_count": 59,
   "metadata": {},
   "outputs": [
    {
     "name": "stdout",
     "output_type": "stream",
     "text": [
      "<class 'pandas.core.frame.DataFrame'>\n",
      "RangeIndex: 51290 entries, 0 to 51289\n",
      "Data columns (total 9 columns):\n",
      "Ship Mode         51290 non-null object\n",
      "Segment           51290 non-null object\n",
      "Quantity          51290 non-null int64\n",
      "Order Priority    51290 non-null object\n",
      "Sales             51290 non-null float64\n",
      "Discount          51290 non-null float64\n",
      "Profit            51290 non-null float64\n",
      "Shipping Cost     51290 non-null float64\n",
      "Category          51290 non-null object\n",
      "dtypes: float64(4), int64(1), object(4)\n",
      "memory usage: 3.5+ MB\n"
     ]
    }
   ],
   "source": [
    "ds.info()"
   ]
  },
  {
   "cell_type": "code",
   "execution_count": 60,
   "metadata": {},
   "outputs": [
    {
     "data": {
      "text/plain": [
       "Index(['Ship Mode', 'Segment', 'Quantity', 'Order Priority', 'Sales',\n",
       "       'Discount', 'Profit', 'Shipping Cost', 'Category'],\n",
       "      dtype='object')"
      ]
     },
     "execution_count": 60,
     "metadata": {},
     "output_type": "execute_result"
    }
   ],
   "source": [
    "ds.columns"
   ]
  },
  {
   "cell_type": "code",
   "execution_count": 61,
   "metadata": {},
   "outputs": [
    {
     "data": {
      "text/html": [
       "<div>\n",
       "<style scoped>\n",
       "    .dataframe tbody tr th:only-of-type {\n",
       "        vertical-align: middle;\n",
       "    }\n",
       "\n",
       "    .dataframe tbody tr th {\n",
       "        vertical-align: top;\n",
       "    }\n",
       "\n",
       "    .dataframe thead th {\n",
       "        text-align: right;\n",
       "    }\n",
       "</style>\n",
       "<table border=\"1\" class=\"dataframe\">\n",
       "  <thead>\n",
       "    <tr style=\"text-align: right;\">\n",
       "      <th></th>\n",
       "      <th>Quantity</th>\n",
       "      <th>Sales</th>\n",
       "      <th>Discount</th>\n",
       "      <th>Profit</th>\n",
       "      <th>Shipping Cost</th>\n",
       "    </tr>\n",
       "  </thead>\n",
       "  <tbody>\n",
       "    <tr>\n",
       "      <td>count</td>\n",
       "      <td>51290.000000</td>\n",
       "      <td>51290.000000</td>\n",
       "      <td>51290.000000</td>\n",
       "      <td>51290.000000</td>\n",
       "      <td>51290.000000</td>\n",
       "    </tr>\n",
       "    <tr>\n",
       "      <td>mean</td>\n",
       "      <td>3.476545</td>\n",
       "      <td>246.490581</td>\n",
       "      <td>0.142908</td>\n",
       "      <td>28.610982</td>\n",
       "      <td>26.375915</td>\n",
       "    </tr>\n",
       "    <tr>\n",
       "      <td>std</td>\n",
       "      <td>2.278766</td>\n",
       "      <td>487.565361</td>\n",
       "      <td>0.212280</td>\n",
       "      <td>174.340972</td>\n",
       "      <td>57.296804</td>\n",
       "    </tr>\n",
       "    <tr>\n",
       "      <td>min</td>\n",
       "      <td>1.000000</td>\n",
       "      <td>0.444000</td>\n",
       "      <td>0.000000</td>\n",
       "      <td>-6599.978000</td>\n",
       "      <td>0.000000</td>\n",
       "    </tr>\n",
       "    <tr>\n",
       "      <td>25%</td>\n",
       "      <td>2.000000</td>\n",
       "      <td>30.758625</td>\n",
       "      <td>0.000000</td>\n",
       "      <td>0.000000</td>\n",
       "      <td>2.610000</td>\n",
       "    </tr>\n",
       "    <tr>\n",
       "      <td>50%</td>\n",
       "      <td>3.000000</td>\n",
       "      <td>85.053000</td>\n",
       "      <td>0.000000</td>\n",
       "      <td>9.240000</td>\n",
       "      <td>7.790000</td>\n",
       "    </tr>\n",
       "    <tr>\n",
       "      <td>75%</td>\n",
       "      <td>5.000000</td>\n",
       "      <td>251.053200</td>\n",
       "      <td>0.200000</td>\n",
       "      <td>36.810000</td>\n",
       "      <td>24.450000</td>\n",
       "    </tr>\n",
       "    <tr>\n",
       "      <td>max</td>\n",
       "      <td>14.000000</td>\n",
       "      <td>22638.480000</td>\n",
       "      <td>0.850000</td>\n",
       "      <td>8399.976000</td>\n",
       "      <td>933.570000</td>\n",
       "    </tr>\n",
       "  </tbody>\n",
       "</table>\n",
       "</div>"
      ],
      "text/plain": [
       "           Quantity         Sales      Discount        Profit  Shipping Cost\n",
       "count  51290.000000  51290.000000  51290.000000  51290.000000   51290.000000\n",
       "mean       3.476545    246.490581      0.142908     28.610982      26.375915\n",
       "std        2.278766    487.565361      0.212280    174.340972      57.296804\n",
       "min        1.000000      0.444000      0.000000  -6599.978000       0.000000\n",
       "25%        2.000000     30.758625      0.000000      0.000000       2.610000\n",
       "50%        3.000000     85.053000      0.000000      9.240000       7.790000\n",
       "75%        5.000000    251.053200      0.200000     36.810000      24.450000\n",
       "max       14.000000  22638.480000      0.850000   8399.976000     933.570000"
      ]
     },
     "execution_count": 61,
     "metadata": {},
     "output_type": "execute_result"
    }
   ],
   "source": [
    "ds.describe()"
   ]
  },
  {
   "cell_type": "markdown",
   "metadata": {},
   "source": [
    "##### get dummies"
   ]
  },
  {
   "cell_type": "code",
   "execution_count": 62,
   "metadata": {},
   "outputs": [
    {
     "data": {
      "text/html": [
       "<div>\n",
       "<style scoped>\n",
       "    .dataframe tbody tr th:only-of-type {\n",
       "        vertical-align: middle;\n",
       "    }\n",
       "\n",
       "    .dataframe tbody tr th {\n",
       "        vertical-align: top;\n",
       "    }\n",
       "\n",
       "    .dataframe thead th {\n",
       "        text-align: right;\n",
       "    }\n",
       "</style>\n",
       "<table border=\"1\" class=\"dataframe\">\n",
       "  <thead>\n",
       "    <tr style=\"text-align: right;\">\n",
       "      <th></th>\n",
       "      <th>Order Priority</th>\n",
       "      <th>Sales</th>\n",
       "      <th>Discount</th>\n",
       "      <th>Profit</th>\n",
       "      <th>Shipping Cost</th>\n",
       "      <th>Ship Mode_Same Day</th>\n",
       "      <th>Ship Mode_Second Class</th>\n",
       "      <th>Ship Mode_Standard Class</th>\n",
       "      <th>Segment_Corporate</th>\n",
       "      <th>Segment_Home Office</th>\n",
       "      <th>Category_Office Supplies</th>\n",
       "      <th>Category_Technology</th>\n",
       "      <th>Quantity_2</th>\n",
       "      <th>Quantity_3</th>\n",
       "      <th>Quantity_4</th>\n",
       "      <th>Quantity_5</th>\n",
       "      <th>Quantity_6</th>\n",
       "      <th>Quantity_7</th>\n",
       "      <th>Quantity_8</th>\n",
       "      <th>Quantity_9</th>\n",
       "      <th>Quantity_10</th>\n",
       "      <th>Quantity_11</th>\n",
       "      <th>Quantity_12</th>\n",
       "      <th>Quantity_13</th>\n",
       "      <th>Quantity_14</th>\n",
       "    </tr>\n",
       "  </thead>\n",
       "  <tbody>\n",
       "    <tr>\n",
       "      <td>0</td>\n",
       "      <td>Medium</td>\n",
       "      <td>408.300</td>\n",
       "      <td>0.0</td>\n",
       "      <td>106.140</td>\n",
       "      <td>35.46</td>\n",
       "      <td>0</td>\n",
       "      <td>0</td>\n",
       "      <td>1</td>\n",
       "      <td>0</td>\n",
       "      <td>0</td>\n",
       "      <td>1</td>\n",
       "      <td>0</td>\n",
       "      <td>1</td>\n",
       "      <td>0</td>\n",
       "      <td>0</td>\n",
       "      <td>0</td>\n",
       "      <td>0</td>\n",
       "      <td>0</td>\n",
       "      <td>0</td>\n",
       "      <td>0</td>\n",
       "      <td>0</td>\n",
       "      <td>0</td>\n",
       "      <td>0</td>\n",
       "      <td>0</td>\n",
       "      <td>0</td>\n",
       "    </tr>\n",
       "    <tr>\n",
       "      <td>1</td>\n",
       "      <td>Medium</td>\n",
       "      <td>120.366</td>\n",
       "      <td>0.1</td>\n",
       "      <td>36.036</td>\n",
       "      <td>9.72</td>\n",
       "      <td>0</td>\n",
       "      <td>0</td>\n",
       "      <td>1</td>\n",
       "      <td>0</td>\n",
       "      <td>0</td>\n",
       "      <td>1</td>\n",
       "      <td>0</td>\n",
       "      <td>0</td>\n",
       "      <td>1</td>\n",
       "      <td>0</td>\n",
       "      <td>0</td>\n",
       "      <td>0</td>\n",
       "      <td>0</td>\n",
       "      <td>0</td>\n",
       "      <td>0</td>\n",
       "      <td>0</td>\n",
       "      <td>0</td>\n",
       "      <td>0</td>\n",
       "      <td>0</td>\n",
       "      <td>0</td>\n",
       "    </tr>\n",
       "    <tr>\n",
       "      <td>2</td>\n",
       "      <td>High</td>\n",
       "      <td>66.120</td>\n",
       "      <td>0.0</td>\n",
       "      <td>29.640</td>\n",
       "      <td>8.17</td>\n",
       "      <td>0</td>\n",
       "      <td>1</td>\n",
       "      <td>0</td>\n",
       "      <td>0</td>\n",
       "      <td>0</td>\n",
       "      <td>1</td>\n",
       "      <td>0</td>\n",
       "      <td>0</td>\n",
       "      <td>0</td>\n",
       "      <td>1</td>\n",
       "      <td>0</td>\n",
       "      <td>0</td>\n",
       "      <td>0</td>\n",
       "      <td>0</td>\n",
       "      <td>0</td>\n",
       "      <td>0</td>\n",
       "      <td>0</td>\n",
       "      <td>0</td>\n",
       "      <td>0</td>\n",
       "      <td>0</td>\n",
       "    </tr>\n",
       "  </tbody>\n",
       "</table>\n",
       "</div>"
      ],
      "text/plain": [
       "  Order Priority    Sales  Discount   Profit  Shipping Cost  \\\n",
       "0         Medium  408.300       0.0  106.140          35.46   \n",
       "1         Medium  120.366       0.1   36.036           9.72   \n",
       "2           High   66.120       0.0   29.640           8.17   \n",
       "\n",
       "   Ship Mode_Same Day  Ship Mode_Second Class  Ship Mode_Standard Class  \\\n",
       "0                   0                       0                         1   \n",
       "1                   0                       0                         1   \n",
       "2                   0                       1                         0   \n",
       "\n",
       "   Segment_Corporate  Segment_Home Office  Category_Office Supplies  \\\n",
       "0                  0                    0                         1   \n",
       "1                  0                    0                         1   \n",
       "2                  0                    0                         1   \n",
       "\n",
       "   Category_Technology  Quantity_2  Quantity_3  Quantity_4  Quantity_5  \\\n",
       "0                    0           1           0           0           0   \n",
       "1                    0           0           1           0           0   \n",
       "2                    0           0           0           1           0   \n",
       "\n",
       "   Quantity_6  Quantity_7  Quantity_8  Quantity_9  Quantity_10  Quantity_11  \\\n",
       "0           0           0           0           0            0            0   \n",
       "1           0           0           0           0            0            0   \n",
       "2           0           0           0           0            0            0   \n",
       "\n",
       "   Quantity_12  Quantity_13  Quantity_14  \n",
       "0            0            0            0  \n",
       "1            0            0            0  \n",
       "2            0            0            0  "
      ]
     },
     "execution_count": 62,
     "metadata": {},
     "output_type": "execute_result"
    }
   ],
   "source": [
    "dummy_df = pd.get_dummies(data=ds,columns = ['Ship Mode', 'Segment', 'Category','Quantity'],drop_first=True)\n",
    "dummy_df.head(3)"
   ]
  },
  {
   "cell_type": "code",
   "execution_count": 63,
   "metadata": {},
   "outputs": [
    {
     "data": {
      "text/plain": [
       "(51290, 25)"
      ]
     },
     "execution_count": 63,
     "metadata": {},
     "output_type": "execute_result"
    }
   ],
   "source": [
    "dummy_df.shape"
   ]
  },
  {
   "cell_type": "code",
   "execution_count": 64,
   "metadata": {},
   "outputs": [
    {
     "data": {
      "text/plain": [
       "Medium      29433\n",
       "High        15501\n",
       "Critical     3932\n",
       "Low          2424\n",
       "Name: Order Priority, dtype: int64"
      ]
     },
     "execution_count": 64,
     "metadata": {},
     "output_type": "execute_result"
    }
   ],
   "source": [
    "dummy_df['Order Priority'].value_counts()"
   ]
  },
  {
   "cell_type": "code",
   "execution_count": 65,
   "metadata": {},
   "outputs": [],
   "source": [
    "fin = dummy_df[(dummy_df['Order Priority'] == 'Medium')|(dummy_df['Order Priority'] == 'High')]"
   ]
  },
  {
   "cell_type": "code",
   "execution_count": 66,
   "metadata": {},
   "outputs": [
    {
     "data": {
      "text/plain": [
       "(44934, 25)"
      ]
     },
     "execution_count": 66,
     "metadata": {},
     "output_type": "execute_result"
    }
   ],
   "source": [
    "fin.shape"
   ]
  },
  {
   "cell_type": "code",
   "execution_count": 67,
   "metadata": {},
   "outputs": [],
   "source": [
    "fin['Order Priority'] = fin['Order Priority'].map({'Medium':0,'High':1})"
   ]
  },
  {
   "cell_type": "code",
   "execution_count": 68,
   "metadata": {},
   "outputs": [
    {
     "data": {
      "text/html": [
       "<div>\n",
       "<style scoped>\n",
       "    .dataframe tbody tr th:only-of-type {\n",
       "        vertical-align: middle;\n",
       "    }\n",
       "\n",
       "    .dataframe tbody tr th {\n",
       "        vertical-align: top;\n",
       "    }\n",
       "\n",
       "    .dataframe thead th {\n",
       "        text-align: right;\n",
       "    }\n",
       "</style>\n",
       "<table border=\"1\" class=\"dataframe\">\n",
       "  <thead>\n",
       "    <tr style=\"text-align: right;\">\n",
       "      <th></th>\n",
       "      <th>Order Priority</th>\n",
       "      <th>Sales</th>\n",
       "      <th>Discount</th>\n",
       "      <th>Profit</th>\n",
       "      <th>Shipping Cost</th>\n",
       "      <th>Ship Mode_Same Day</th>\n",
       "      <th>Ship Mode_Second Class</th>\n",
       "      <th>Ship Mode_Standard Class</th>\n",
       "      <th>Segment_Corporate</th>\n",
       "      <th>Segment_Home Office</th>\n",
       "      <th>Category_Office Supplies</th>\n",
       "      <th>Category_Technology</th>\n",
       "      <th>Quantity_2</th>\n",
       "      <th>Quantity_3</th>\n",
       "      <th>Quantity_4</th>\n",
       "      <th>Quantity_5</th>\n",
       "      <th>Quantity_6</th>\n",
       "      <th>Quantity_7</th>\n",
       "      <th>Quantity_8</th>\n",
       "      <th>Quantity_9</th>\n",
       "      <th>Quantity_10</th>\n",
       "      <th>Quantity_11</th>\n",
       "      <th>Quantity_12</th>\n",
       "      <th>Quantity_13</th>\n",
       "      <th>Quantity_14</th>\n",
       "    </tr>\n",
       "  </thead>\n",
       "  <tbody>\n",
       "    <tr>\n",
       "      <td>0</td>\n",
       "      <td>0</td>\n",
       "      <td>408.300</td>\n",
       "      <td>0.0</td>\n",
       "      <td>106.1400</td>\n",
       "      <td>35.46</td>\n",
       "      <td>0</td>\n",
       "      <td>0</td>\n",
       "      <td>1</td>\n",
       "      <td>0</td>\n",
       "      <td>0</td>\n",
       "      <td>1</td>\n",
       "      <td>0</td>\n",
       "      <td>1</td>\n",
       "      <td>0</td>\n",
       "      <td>0</td>\n",
       "      <td>0</td>\n",
       "      <td>0</td>\n",
       "      <td>0</td>\n",
       "      <td>0</td>\n",
       "      <td>0</td>\n",
       "      <td>0</td>\n",
       "      <td>0</td>\n",
       "      <td>0</td>\n",
       "      <td>0</td>\n",
       "      <td>0</td>\n",
       "    </tr>\n",
       "    <tr>\n",
       "      <td>1</td>\n",
       "      <td>0</td>\n",
       "      <td>120.366</td>\n",
       "      <td>0.1</td>\n",
       "      <td>36.0360</td>\n",
       "      <td>9.72</td>\n",
       "      <td>0</td>\n",
       "      <td>0</td>\n",
       "      <td>1</td>\n",
       "      <td>0</td>\n",
       "      <td>0</td>\n",
       "      <td>1</td>\n",
       "      <td>0</td>\n",
       "      <td>0</td>\n",
       "      <td>1</td>\n",
       "      <td>0</td>\n",
       "      <td>0</td>\n",
       "      <td>0</td>\n",
       "      <td>0</td>\n",
       "      <td>0</td>\n",
       "      <td>0</td>\n",
       "      <td>0</td>\n",
       "      <td>0</td>\n",
       "      <td>0</td>\n",
       "      <td>0</td>\n",
       "      <td>0</td>\n",
       "    </tr>\n",
       "    <tr>\n",
       "      <td>2</td>\n",
       "      <td>1</td>\n",
       "      <td>66.120</td>\n",
       "      <td>0.0</td>\n",
       "      <td>29.6400</td>\n",
       "      <td>8.17</td>\n",
       "      <td>0</td>\n",
       "      <td>1</td>\n",
       "      <td>0</td>\n",
       "      <td>0</td>\n",
       "      <td>0</td>\n",
       "      <td>1</td>\n",
       "      <td>0</td>\n",
       "      <td>0</td>\n",
       "      <td>0</td>\n",
       "      <td>1</td>\n",
       "      <td>0</td>\n",
       "      <td>0</td>\n",
       "      <td>0</td>\n",
       "      <td>0</td>\n",
       "      <td>0</td>\n",
       "      <td>0</td>\n",
       "      <td>0</td>\n",
       "      <td>0</td>\n",
       "      <td>0</td>\n",
       "      <td>0</td>\n",
       "    </tr>\n",
       "    <tr>\n",
       "      <td>3</td>\n",
       "      <td>1</td>\n",
       "      <td>44.865</td>\n",
       "      <td>0.5</td>\n",
       "      <td>-26.0550</td>\n",
       "      <td>4.82</td>\n",
       "      <td>0</td>\n",
       "      <td>1</td>\n",
       "      <td>0</td>\n",
       "      <td>0</td>\n",
       "      <td>1</td>\n",
       "      <td>1</td>\n",
       "      <td>0</td>\n",
       "      <td>0</td>\n",
       "      <td>1</td>\n",
       "      <td>0</td>\n",
       "      <td>0</td>\n",
       "      <td>0</td>\n",
       "      <td>0</td>\n",
       "      <td>0</td>\n",
       "      <td>0</td>\n",
       "      <td>0</td>\n",
       "      <td>0</td>\n",
       "      <td>0</td>\n",
       "      <td>0</td>\n",
       "      <td>0</td>\n",
       "    </tr>\n",
       "    <tr>\n",
       "      <td>4</td>\n",
       "      <td>0</td>\n",
       "      <td>113.670</td>\n",
       "      <td>0.1</td>\n",
       "      <td>37.7700</td>\n",
       "      <td>4.70</td>\n",
       "      <td>0</td>\n",
       "      <td>0</td>\n",
       "      <td>1</td>\n",
       "      <td>0</td>\n",
       "      <td>0</td>\n",
       "      <td>0</td>\n",
       "      <td>0</td>\n",
       "      <td>0</td>\n",
       "      <td>0</td>\n",
       "      <td>0</td>\n",
       "      <td>1</td>\n",
       "      <td>0</td>\n",
       "      <td>0</td>\n",
       "      <td>0</td>\n",
       "      <td>0</td>\n",
       "      <td>0</td>\n",
       "      <td>0</td>\n",
       "      <td>0</td>\n",
       "      <td>0</td>\n",
       "      <td>0</td>\n",
       "    </tr>\n",
       "    <tr>\n",
       "      <td>...</td>\n",
       "      <td>...</td>\n",
       "      <td>...</td>\n",
       "      <td>...</td>\n",
       "      <td>...</td>\n",
       "      <td>...</td>\n",
       "      <td>...</td>\n",
       "      <td>...</td>\n",
       "      <td>...</td>\n",
       "      <td>...</td>\n",
       "      <td>...</td>\n",
       "      <td>...</td>\n",
       "      <td>...</td>\n",
       "      <td>...</td>\n",
       "      <td>...</td>\n",
       "      <td>...</td>\n",
       "      <td>...</td>\n",
       "      <td>...</td>\n",
       "      <td>...</td>\n",
       "      <td>...</td>\n",
       "      <td>...</td>\n",
       "      <td>...</td>\n",
       "      <td>...</td>\n",
       "      <td>...</td>\n",
       "      <td>...</td>\n",
       "      <td>...</td>\n",
       "    </tr>\n",
       "    <tr>\n",
       "      <td>51285</td>\n",
       "      <td>0</td>\n",
       "      <td>13.904</td>\n",
       "      <td>0.2</td>\n",
       "      <td>4.5188</td>\n",
       "      <td>0.89</td>\n",
       "      <td>0</td>\n",
       "      <td>0</td>\n",
       "      <td>1</td>\n",
       "      <td>1</td>\n",
       "      <td>0</td>\n",
       "      <td>1</td>\n",
       "      <td>0</td>\n",
       "      <td>1</td>\n",
       "      <td>0</td>\n",
       "      <td>0</td>\n",
       "      <td>0</td>\n",
       "      <td>0</td>\n",
       "      <td>0</td>\n",
       "      <td>0</td>\n",
       "      <td>0</td>\n",
       "      <td>0</td>\n",
       "      <td>0</td>\n",
       "      <td>0</td>\n",
       "      <td>0</td>\n",
       "      <td>0</td>\n",
       "    </tr>\n",
       "    <tr>\n",
       "      <td>51286</td>\n",
       "      <td>0</td>\n",
       "      <td>3.990</td>\n",
       "      <td>0.0</td>\n",
       "      <td>0.4200</td>\n",
       "      <td>0.49</td>\n",
       "      <td>0</td>\n",
       "      <td>0</td>\n",
       "      <td>1</td>\n",
       "      <td>0</td>\n",
       "      <td>0</td>\n",
       "      <td>1</td>\n",
       "      <td>0</td>\n",
       "      <td>0</td>\n",
       "      <td>0</td>\n",
       "      <td>0</td>\n",
       "      <td>0</td>\n",
       "      <td>0</td>\n",
       "      <td>0</td>\n",
       "      <td>0</td>\n",
       "      <td>0</td>\n",
       "      <td>0</td>\n",
       "      <td>0</td>\n",
       "      <td>0</td>\n",
       "      <td>0</td>\n",
       "      <td>0</td>\n",
       "    </tr>\n",
       "    <tr>\n",
       "      <td>51287</td>\n",
       "      <td>0</td>\n",
       "      <td>26.400</td>\n",
       "      <td>0.0</td>\n",
       "      <td>12.3600</td>\n",
       "      <td>0.35</td>\n",
       "      <td>0</td>\n",
       "      <td>1</td>\n",
       "      <td>0</td>\n",
       "      <td>0</td>\n",
       "      <td>0</td>\n",
       "      <td>1</td>\n",
       "      <td>0</td>\n",
       "      <td>0</td>\n",
       "      <td>1</td>\n",
       "      <td>0</td>\n",
       "      <td>0</td>\n",
       "      <td>0</td>\n",
       "      <td>0</td>\n",
       "      <td>0</td>\n",
       "      <td>0</td>\n",
       "      <td>0</td>\n",
       "      <td>0</td>\n",
       "      <td>0</td>\n",
       "      <td>0</td>\n",
       "      <td>0</td>\n",
       "    </tr>\n",
       "    <tr>\n",
       "      <td>51288</td>\n",
       "      <td>0</td>\n",
       "      <td>7.120</td>\n",
       "      <td>0.0</td>\n",
       "      <td>0.5600</td>\n",
       "      <td>0.20</td>\n",
       "      <td>0</td>\n",
       "      <td>0</td>\n",
       "      <td>1</td>\n",
       "      <td>0</td>\n",
       "      <td>0</td>\n",
       "      <td>1</td>\n",
       "      <td>0</td>\n",
       "      <td>0</td>\n",
       "      <td>0</td>\n",
       "      <td>0</td>\n",
       "      <td>0</td>\n",
       "      <td>0</td>\n",
       "      <td>0</td>\n",
       "      <td>0</td>\n",
       "      <td>0</td>\n",
       "      <td>0</td>\n",
       "      <td>0</td>\n",
       "      <td>0</td>\n",
       "      <td>0</td>\n",
       "      <td>0</td>\n",
       "    </tr>\n",
       "    <tr>\n",
       "      <td>51289</td>\n",
       "      <td>0</td>\n",
       "      <td>3.024</td>\n",
       "      <td>0.2</td>\n",
       "      <td>-0.6048</td>\n",
       "      <td>0.17</td>\n",
       "      <td>0</td>\n",
       "      <td>0</td>\n",
       "      <td>1</td>\n",
       "      <td>0</td>\n",
       "      <td>0</td>\n",
       "      <td>1</td>\n",
       "      <td>0</td>\n",
       "      <td>0</td>\n",
       "      <td>1</td>\n",
       "      <td>0</td>\n",
       "      <td>0</td>\n",
       "      <td>0</td>\n",
       "      <td>0</td>\n",
       "      <td>0</td>\n",
       "      <td>0</td>\n",
       "      <td>0</td>\n",
       "      <td>0</td>\n",
       "      <td>0</td>\n",
       "      <td>0</td>\n",
       "      <td>0</td>\n",
       "    </tr>\n",
       "  </tbody>\n",
       "</table>\n",
       "<p>44934 rows × 25 columns</p>\n",
       "</div>"
      ],
      "text/plain": [
       "       Order Priority    Sales  Discount    Profit  Shipping Cost  \\\n",
       "0                   0  408.300       0.0  106.1400          35.46   \n",
       "1                   0  120.366       0.1   36.0360           9.72   \n",
       "2                   1   66.120       0.0   29.6400           8.17   \n",
       "3                   1   44.865       0.5  -26.0550           4.82   \n",
       "4                   0  113.670       0.1   37.7700           4.70   \n",
       "...               ...      ...       ...       ...            ...   \n",
       "51285               0   13.904       0.2    4.5188           0.89   \n",
       "51286               0    3.990       0.0    0.4200           0.49   \n",
       "51287               0   26.400       0.0   12.3600           0.35   \n",
       "51288               0    7.120       0.0    0.5600           0.20   \n",
       "51289               0    3.024       0.2   -0.6048           0.17   \n",
       "\n",
       "       Ship Mode_Same Day  Ship Mode_Second Class  Ship Mode_Standard Class  \\\n",
       "0                       0                       0                         1   \n",
       "1                       0                       0                         1   \n",
       "2                       0                       1                         0   \n",
       "3                       0                       1                         0   \n",
       "4                       0                       0                         1   \n",
       "...                   ...                     ...                       ...   \n",
       "51285                   0                       0                         1   \n",
       "51286                   0                       0                         1   \n",
       "51287                   0                       1                         0   \n",
       "51288                   0                       0                         1   \n",
       "51289                   0                       0                         1   \n",
       "\n",
       "       Segment_Corporate  Segment_Home Office  Category_Office Supplies  \\\n",
       "0                      0                    0                         1   \n",
       "1                      0                    0                         1   \n",
       "2                      0                    0                         1   \n",
       "3                      0                    1                         1   \n",
       "4                      0                    0                         0   \n",
       "...                  ...                  ...                       ...   \n",
       "51285                  1                    0                         1   \n",
       "51286                  0                    0                         1   \n",
       "51287                  0                    0                         1   \n",
       "51288                  0                    0                         1   \n",
       "51289                  0                    0                         1   \n",
       "\n",
       "       Category_Technology  Quantity_2  Quantity_3  Quantity_4  Quantity_5  \\\n",
       "0                        0           1           0           0           0   \n",
       "1                        0           0           1           0           0   \n",
       "2                        0           0           0           1           0   \n",
       "3                        0           0           1           0           0   \n",
       "4                        0           0           0           0           1   \n",
       "...                    ...         ...         ...         ...         ...   \n",
       "51285                    0           1           0           0           0   \n",
       "51286                    0           0           0           0           0   \n",
       "51287                    0           0           1           0           0   \n",
       "51288                    0           0           0           0           0   \n",
       "51289                    0           0           1           0           0   \n",
       "\n",
       "       Quantity_6  Quantity_7  Quantity_8  Quantity_9  Quantity_10  \\\n",
       "0               0           0           0           0            0   \n",
       "1               0           0           0           0            0   \n",
       "2               0           0           0           0            0   \n",
       "3               0           0           0           0            0   \n",
       "4               0           0           0           0            0   \n",
       "...           ...         ...         ...         ...          ...   \n",
       "51285           0           0           0           0            0   \n",
       "51286           0           0           0           0            0   \n",
       "51287           0           0           0           0            0   \n",
       "51288           0           0           0           0            0   \n",
       "51289           0           0           0           0            0   \n",
       "\n",
       "       Quantity_11  Quantity_12  Quantity_13  Quantity_14  \n",
       "0                0            0            0            0  \n",
       "1                0            0            0            0  \n",
       "2                0            0            0            0  \n",
       "3                0            0            0            0  \n",
       "4                0            0            0            0  \n",
       "...            ...          ...          ...          ...  \n",
       "51285            0            0            0            0  \n",
       "51286            0            0            0            0  \n",
       "51287            0            0            0            0  \n",
       "51288            0            0            0            0  \n",
       "51289            0            0            0            0  \n",
       "\n",
       "[44934 rows x 25 columns]"
      ]
     },
     "execution_count": 68,
     "metadata": {},
     "output_type": "execute_result"
    }
   ],
   "source": [
    "fin"
   ]
  },
  {
   "cell_type": "markdown",
   "metadata": {},
   "source": [
    "###### base model"
   ]
  },
  {
   "cell_type": "code",
   "execution_count": 69,
   "metadata": {},
   "outputs": [],
   "source": [
    "def statsmodel(x,y):\n",
    "    x_constant = sm.add_constant(x)\n",
    "    reg_model = sm.Logit(y,x_constant).fit()\n",
    "    return reg_model.summary()\n",
    "\n",
    "def ML_model(lr,x,y):\n",
    "    X_train, X_test, y_train, y_test = train_test_split(x, y, test_size=0.30, random_state=0)\n",
    "    lr.fit(X_train,y_train)\n",
    "    print('Train score -',lr.score(X_train,y_train))\n",
    "    print('test score - ',lr.score(X_test,y_test))"
   ]
  },
  {
   "cell_type": "code",
   "execution_count": 70,
   "metadata": {},
   "outputs": [],
   "source": [
    "X = fin.drop('Order Priority',1)\n",
    "y = fin['Order Priority']"
   ]
  },
  {
   "cell_type": "code",
   "execution_count": 71,
   "metadata": {},
   "outputs": [
    {
     "name": "stdout",
     "output_type": "stream",
     "text": [
      "Train score - 0.7245413792007122\n",
      "test score -  0.7238335435056746\n"
     ]
    }
   ],
   "source": [
    "lr = LogisticRegression(solver = \"liblinear\")\n",
    "\n",
    "ML_model(lr,X,y)"
   ]
  },
  {
   "cell_type": "code",
   "execution_count": 72,
   "metadata": {},
   "outputs": [
    {
     "name": "stdout",
     "output_type": "stream",
     "text": [
      "Optimization terminated successfully.\n",
      "         Current function value: 0.562829\n",
      "         Iterations 7\n"
     ]
    },
    {
     "data": {
      "text/html": [
       "<table class=\"simpletable\">\n",
       "<caption>Logit Regression Results</caption>\n",
       "<tr>\n",
       "  <th>Dep. Variable:</th>    <td>Order Priority</td>  <th>  No. Observations:  </th>  <td> 44934</td> \n",
       "</tr>\n",
       "<tr>\n",
       "  <th>Model:</th>                 <td>Logit</td>      <th>  Df Residuals:      </th>  <td> 44909</td> \n",
       "</tr>\n",
       "<tr>\n",
       "  <th>Method:</th>                 <td>MLE</td>       <th>  Df Model:          </th>  <td>    24</td> \n",
       "</tr>\n",
       "<tr>\n",
       "  <th>Date:</th>            <td>Wed, 06 Nov 2019</td> <th>  Pseudo R-squ.:     </th>  <td>0.1264</td> \n",
       "</tr>\n",
       "<tr>\n",
       "  <th>Time:</th>                <td>23:22:24</td>     <th>  Log-Likelihood:    </th> <td> -25290.</td>\n",
       "</tr>\n",
       "<tr>\n",
       "  <th>converged:</th>             <td>True</td>       <th>  LL-Null:           </th> <td> -28950.</td>\n",
       "</tr>\n",
       "<tr>\n",
       "  <th>Covariance Type:</th>     <td>nonrobust</td>    <th>  LLR p-value:       </th>  <td> 0.000</td> \n",
       "</tr>\n",
       "</table>\n",
       "<table class=\"simpletable\">\n",
       "<tr>\n",
       "              <td></td>                <th>coef</th>     <th>std err</th>      <th>z</th>      <th>P>|z|</th>  <th>[0.025</th>    <th>0.975]</th>  \n",
       "</tr>\n",
       "<tr>\n",
       "  <th>const</th>                    <td>    0.0880</td> <td>    0.047</td> <td>    1.883</td> <td> 0.060</td> <td>   -0.004</td> <td>    0.180</td>\n",
       "</tr>\n",
       "<tr>\n",
       "  <th>Sales</th>                    <td>   -0.0043</td> <td>    0.000</td> <td>  -37.620</td> <td> 0.000</td> <td>   -0.005</td> <td>   -0.004</td>\n",
       "</tr>\n",
       "<tr>\n",
       "  <th>Discount</th>                 <td>   -0.0698</td> <td>    0.054</td> <td>   -1.287</td> <td> 0.198</td> <td>   -0.176</td> <td>    0.037</td>\n",
       "</tr>\n",
       "<tr>\n",
       "  <th>Profit</th>                   <td>   -0.0002</td> <td>    0.000</td> <td>   -1.426</td> <td> 0.154</td> <td>   -0.000</td> <td> 6.24e-05</td>\n",
       "</tr>\n",
       "<tr>\n",
       "  <th>Shipping Cost</th>            <td>    0.0444</td> <td>    0.001</td> <td>   41.763</td> <td> 0.000</td> <td>    0.042</td> <td>    0.046</td>\n",
       "</tr>\n",
       "<tr>\n",
       "  <th>Ship Mode_Same Day</th>       <td>    0.2842</td> <td>    0.057</td> <td>    4.943</td> <td> 0.000</td> <td>    0.172</td> <td>    0.397</td>\n",
       "</tr>\n",
       "<tr>\n",
       "  <th>Ship Mode_Second Class</th>   <td>   -0.3486</td> <td>    0.036</td> <td>   -9.625</td> <td> 0.000</td> <td>   -0.420</td> <td>   -0.278</td>\n",
       "</tr>\n",
       "<tr>\n",
       "  <th>Ship Mode_Standard Class</th> <td>   -1.1279</td> <td>    0.032</td> <td>  -34.844</td> <td> 0.000</td> <td>   -1.191</td> <td>   -1.064</td>\n",
       "</tr>\n",
       "<tr>\n",
       "  <th>Segment_Corporate</th>        <td>   -0.1246</td> <td>    0.025</td> <td>   -5.005</td> <td> 0.000</td> <td>   -0.173</td> <td>   -0.076</td>\n",
       "</tr>\n",
       "<tr>\n",
       "  <th>Segment_Home Office</th>      <td>   -0.0409</td> <td>    0.029</td> <td>   -1.394</td> <td> 0.163</td> <td>   -0.098</td> <td>    0.017</td>\n",
       "</tr>\n",
       "<tr>\n",
       "  <th>Category_Office Supplies</th> <td>    0.0398</td> <td>    0.031</td> <td>    1.303</td> <td> 0.193</td> <td>   -0.020</td> <td>    0.100</td>\n",
       "</tr>\n",
       "<tr>\n",
       "  <th>Category_Technology</th>      <td>    0.0343</td> <td>    0.036</td> <td>    0.943</td> <td> 0.346</td> <td>   -0.037</td> <td>    0.106</td>\n",
       "</tr>\n",
       "<tr>\n",
       "  <th>Quantity_2</th>               <td>    0.0509</td> <td>    0.033</td> <td>    1.551</td> <td> 0.121</td> <td>   -0.013</td> <td>    0.115</td>\n",
       "</tr>\n",
       "<tr>\n",
       "  <th>Quantity_3</th>               <td>    0.0120</td> <td>    0.035</td> <td>    0.340</td> <td> 0.734</td> <td>   -0.057</td> <td>    0.081</td>\n",
       "</tr>\n",
       "<tr>\n",
       "  <th>Quantity_4</th>               <td>   -0.0096</td> <td>    0.040</td> <td>   -0.238</td> <td> 0.812</td> <td>   -0.089</td> <td>    0.069</td>\n",
       "</tr>\n",
       "<tr>\n",
       "  <th>Quantity_5</th>               <td>    0.0663</td> <td>    0.044</td> <td>    1.499</td> <td> 0.134</td> <td>   -0.020</td> <td>    0.153</td>\n",
       "</tr>\n",
       "<tr>\n",
       "  <th>Quantity_6</th>               <td>    0.0356</td> <td>    0.053</td> <td>    0.673</td> <td> 0.501</td> <td>   -0.068</td> <td>    0.139</td>\n",
       "</tr>\n",
       "<tr>\n",
       "  <th>Quantity_7</th>               <td>   -0.0448</td> <td>    0.060</td> <td>   -0.742</td> <td> 0.458</td> <td>   -0.163</td> <td>    0.073</td>\n",
       "</tr>\n",
       "<tr>\n",
       "  <th>Quantity_8</th>               <td>   -0.0322</td> <td>    0.077</td> <td>   -0.420</td> <td> 0.674</td> <td>   -0.182</td> <td>    0.118</td>\n",
       "</tr>\n",
       "<tr>\n",
       "  <th>Quantity_9</th>               <td>    0.0877</td> <td>    0.087</td> <td>    1.009</td> <td> 0.313</td> <td>   -0.083</td> <td>    0.258</td>\n",
       "</tr>\n",
       "<tr>\n",
       "  <th>Quantity_10</th>              <td>    0.1723</td> <td>    0.159</td> <td>    1.083</td> <td> 0.279</td> <td>   -0.140</td> <td>    0.484</td>\n",
       "</tr>\n",
       "<tr>\n",
       "  <th>Quantity_11</th>              <td>    0.0385</td> <td>    0.214</td> <td>    0.180</td> <td> 0.857</td> <td>   -0.380</td> <td>    0.457</td>\n",
       "</tr>\n",
       "<tr>\n",
       "  <th>Quantity_12</th>              <td>   -0.4216</td> <td>    0.216</td> <td>   -1.953</td> <td> 0.051</td> <td>   -0.845</td> <td>    0.001</td>\n",
       "</tr>\n",
       "<tr>\n",
       "  <th>Quantity_13</th>              <td>   -0.2104</td> <td>    0.318</td> <td>   -0.661</td> <td> 0.509</td> <td>   -0.835</td> <td>    0.414</td>\n",
       "</tr>\n",
       "<tr>\n",
       "  <th>Quantity_14</th>              <td>    0.4281</td> <td>    0.186</td> <td>    2.299</td> <td> 0.022</td> <td>    0.063</td> <td>    0.793</td>\n",
       "</tr>\n",
       "</table>"
      ],
      "text/plain": [
       "<class 'statsmodels.iolib.summary.Summary'>\n",
       "\"\"\"\n",
       "                           Logit Regression Results                           \n",
       "==============================================================================\n",
       "Dep. Variable:         Order Priority   No. Observations:                44934\n",
       "Model:                          Logit   Df Residuals:                    44909\n",
       "Method:                           MLE   Df Model:                           24\n",
       "Date:                Wed, 06 Nov 2019   Pseudo R-squ.:                  0.1264\n",
       "Time:                        23:22:24   Log-Likelihood:                -25290.\n",
       "converged:                       True   LL-Null:                       -28950.\n",
       "Covariance Type:            nonrobust   LLR p-value:                     0.000\n",
       "============================================================================================\n",
       "                               coef    std err          z      P>|z|      [0.025      0.975]\n",
       "--------------------------------------------------------------------------------------------\n",
       "const                        0.0880      0.047      1.883      0.060      -0.004       0.180\n",
       "Sales                       -0.0043      0.000    -37.620      0.000      -0.005      -0.004\n",
       "Discount                    -0.0698      0.054     -1.287      0.198      -0.176       0.037\n",
       "Profit                      -0.0002      0.000     -1.426      0.154      -0.000    6.24e-05\n",
       "Shipping Cost                0.0444      0.001     41.763      0.000       0.042       0.046\n",
       "Ship Mode_Same Day           0.2842      0.057      4.943      0.000       0.172       0.397\n",
       "Ship Mode_Second Class      -0.3486      0.036     -9.625      0.000      -0.420      -0.278\n",
       "Ship Mode_Standard Class    -1.1279      0.032    -34.844      0.000      -1.191      -1.064\n",
       "Segment_Corporate           -0.1246      0.025     -5.005      0.000      -0.173      -0.076\n",
       "Segment_Home Office         -0.0409      0.029     -1.394      0.163      -0.098       0.017\n",
       "Category_Office Supplies     0.0398      0.031      1.303      0.193      -0.020       0.100\n",
       "Category_Technology          0.0343      0.036      0.943      0.346      -0.037       0.106\n",
       "Quantity_2                   0.0509      0.033      1.551      0.121      -0.013       0.115\n",
       "Quantity_3                   0.0120      0.035      0.340      0.734      -0.057       0.081\n",
       "Quantity_4                  -0.0096      0.040     -0.238      0.812      -0.089       0.069\n",
       "Quantity_5                   0.0663      0.044      1.499      0.134      -0.020       0.153\n",
       "Quantity_6                   0.0356      0.053      0.673      0.501      -0.068       0.139\n",
       "Quantity_7                  -0.0448      0.060     -0.742      0.458      -0.163       0.073\n",
       "Quantity_8                  -0.0322      0.077     -0.420      0.674      -0.182       0.118\n",
       "Quantity_9                   0.0877      0.087      1.009      0.313      -0.083       0.258\n",
       "Quantity_10                  0.1723      0.159      1.083      0.279      -0.140       0.484\n",
       "Quantity_11                  0.0385      0.214      0.180      0.857      -0.380       0.457\n",
       "Quantity_12                 -0.4216      0.216     -1.953      0.051      -0.845       0.001\n",
       "Quantity_13                 -0.2104      0.318     -0.661      0.509      -0.835       0.414\n",
       "Quantity_14                  0.4281      0.186      2.299      0.022       0.063       0.793\n",
       "============================================================================================\n",
       "\"\"\""
      ]
     },
     "execution_count": 72,
     "metadata": {},
     "output_type": "execute_result"
    }
   ],
   "source": [
    "statsmodel(X,y)"
   ]
  },
  {
   "cell_type": "markdown",
   "metadata": {},
   "source": [
    "###### Other Base models"
   ]
  },
  {
   "cell_type": "code",
   "execution_count": 73,
   "metadata": {},
   "outputs": [],
   "source": [
    "X_train, X_test, y_train, y_test = train_test_split(X,y,test_size = 0.3,random_state = 0)\n",
    "\n",
    "def prediction(X_train, X_test, y_train, y_test):\n",
    "    models = []\n",
    "    model_names = []\n",
    "    models.extend([LogisticRegression(solver = 'liblinear'),DecisionTreeClassifier(),KNeighborsClassifier()\n",
    "                   ,RandomForestClassifier(n_estimators = 10),GaussianNB()])\n",
    "    model_names.extend(['lr','dt','knn','rf','GaussianNB'])\n",
    "    d_frame = pd.DataFrame()\n",
    "    for algorithm,model_name in zip(models,model_names):\n",
    "        model = algorithm\n",
    "        model.fit(X_train,y_train)\n",
    "        name = model_name+'_'+'pred' \n",
    "        pred_values = model.predict(X_test)\n",
    "        prob_value = model.predict_proba(X_test)[:,-1]\n",
    "#         name_pred = pd.DataFrame({name:pred_values})\n",
    "        \n",
    "#         d_frame = pd.concat([d_frame,name_pred],1)\n",
    "        print(model_name,'\\n',confusion_matrix(y_test,pred_values))\n",
    "        print(name,'acc',accuracy_score(y_test,pred_values))\n",
    "        print(name,'auc score ', roc_auc_score(y_test,prob_value))\n",
    "#     global d_frame\n",
    "#     return d_frame"
   ]
  },
  {
   "cell_type": "code",
   "execution_count": 74,
   "metadata": {},
   "outputs": [
    {
     "name": "stdout",
     "output_type": "stream",
     "text": [
      "lr \n",
      " [[7924  842]\n",
      " [2881 1834]]\n",
      "lr_pred acc 0.7238335435056746\n",
      "lr_pred auc score  0.7816334633304373\n",
      "dt \n",
      " [[6862 1904]\n",
      " [1807 2908]]\n",
      "dt_pred acc 0.7247236851865588\n",
      "dt_pred auc score  0.6997761040015543\n",
      "knn \n",
      " [[7640 1126]\n",
      " [2195 2520]]\n",
      "knn_pred acc 0.7536532898152956\n",
      "knn_pred auc score  0.7679620891378989\n",
      "rf \n",
      " [[7697 1069]\n",
      " [2235 2480]]\n",
      "rf_pred acc 0.7549143238632149\n",
      "rf_pred auc score  0.7941301698527208\n",
      "GaussianNB \n",
      " [[7271 1495]\n",
      " [3068 1647]]\n",
      "GaussianNB_pred acc 0.6615236258437801\n",
      "GaussianNB_pred auc score  0.6701163199472366\n"
     ]
    }
   ],
   "source": [
    "X_train, X_test, y_train, y_test = train_test_split(X,y,test_size = 0.3,random_state = 0)\n",
    "\n",
    "\n",
    "prediction(X_train, X_test, y_train, y_test)"
   ]
  },
  {
   "cell_type": "code",
   "execution_count": 75,
   "metadata": {},
   "outputs": [],
   "source": [
    "def imb_predict(algo,xtrain,xtest,ytrain,ytest):\n",
    "\n",
    "    algo.fit(xtrain,ytrain)\n",
    "    y_pred = algo.predict(xtest)\n",
    "    y_prob = algo.predict_proba(xtest)[:,1]\n",
    "    \n",
    "    \n",
    "    acc = accuracy_score(ytest,y_pred)\n",
    "    print('Accuracy Score: ', acc)\n",
    "                                         # FUNCTION TO RUN THE DIFFERENT ALGORITHM MANY TIMES\n",
    "    auc = roc_auc_score(ytest,y_prob)\n",
    "    print('AUC:', auc)\n",
    "    \n",
    "    print(classification_report(ytest, y_pred))\n",
    "    \n",
    "    fpr,tpr,thresh = roc_curve(ytest,y_prob)\n",
    "#     print(thresh)\n",
    "    plt.plot(fpr,tpr,'r--')\n",
    "    plt.plot(fpr,fpr,'b--')\n",
    "    plt.show()\n",
    "    "
   ]
  },
  {
   "cell_type": "code",
   "execution_count": 76,
   "metadata": {},
   "outputs": [
    {
     "name": "stdout",
     "output_type": "stream",
     "text": [
      "Accuracy Score:  0.7238335435056746\n",
      "AUC: 0.7816334633304373\n",
      "              precision    recall  f1-score   support\n",
      "\n",
      "           0       0.73      0.90      0.81      8766\n",
      "           1       0.69      0.39      0.50      4715\n",
      "\n",
      "    accuracy                           0.72     13481\n",
      "   macro avg       0.71      0.65      0.65     13481\n",
      "weighted avg       0.72      0.72      0.70     13481\n",
      "\n"
     ]
    },
    {
     "data": {
      "image/png": "[encoded data removed]",
      "text/plain": [
       "<Figure size 432x288 with 1 Axes>"
      ]
     },
     "metadata": {
      "needs_background": "light"
     },
     "output_type": "display_data"
    }
   ],
   "source": [
    "\n",
    "lr = LogisticRegression(solver = 'liblinear',max_iter=500)\n",
    "\n",
    "\n",
    "imb_predict(lr,X_train,X_test,y_train,y_test)"
   ]
  },
  {
   "cell_type": "code",
   "execution_count": 77,
   "metadata": {},
   "outputs": [
    {
     "data": {
      "text/plain": [
       "0    0.655027\n",
       "1    0.344973\n",
       "Name: Order Priority, dtype: float64"
      ]
     },
     "execution_count": 77,
     "metadata": {},
     "output_type": "execute_result"
    }
   ],
   "source": [
    "fin['Order Priority'].value_counts(normalize = True)"
   ]
  },
  {
   "cell_type": "code",
   "execution_count": null,
   "metadata": {},
   "outputs": [],
   "source": []
  },
  {
   "cell_type": "markdown",
   "metadata": {},
   "source": [
    "##### Handling Imbalanced data"
   ]
  },
  {
   "cell_type": "code",
   "execution_count": 78,
   "metadata": {},
   "outputs": [],
   "source": [
    "## under sampling\n",
    "\n",
    "X_train, X_test, y_train, y_test = train_test_split(X, y, test_size=0.33, random_state=42)    \n",
    "xy_train = pd.concat([X_train,y_train],1)\n",
    "\n",
    "xy_train0 = xy_train[xy_train['Order Priority'] == 0]\n",
    "xy_train1 = xy_train[xy_train['Order Priority'] == 1]\n",
    "\n",
    "len1 = len(xy_train1)\n",
    "len0 = len(xy_train0)\n",
    "\n",
    "Xy_train0_us = xy_train0.sample(n = len1)\n",
    "                                \n",
    "Xy_train_us = pd.concat([xy_train1,Xy_train0_us],axis = 0)\n",
    "\n",
    "X_train_us = Xy_train_us.drop('Order Priority',1)\n",
    "y_train_us = Xy_train_us['Order Priority']"
   ]
  },
  {
   "cell_type": "code",
   "execution_count": 79,
   "metadata": {},
   "outputs": [
    {
     "name": "stdout",
     "output_type": "stream",
     "text": [
      "(10386, 25)\n",
      "(10386, 25)\n"
     ]
    }
   ],
   "source": [
    "print(xy_train1.shape)\n",
    "print(Xy_train0_us.shape)"
   ]
  },
  {
   "cell_type": "code",
   "execution_count": 80,
   "metadata": {},
   "outputs": [
    {
     "name": "stdout",
     "output_type": "stream",
     "text": [
      "Accuracy Score:  0.7150853058196777\n",
      "AUC: 0.7837315150750366\n",
      "              precision    recall  f1-score   support\n",
      "\n",
      "           0       0.79      0.76      0.78      9714\n",
      "           1       0.58      0.62      0.60      5115\n",
      "\n",
      "    accuracy                           0.72     14829\n",
      "   macro avg       0.69      0.69      0.69     14829\n",
      "weighted avg       0.72      0.72      0.72     14829\n",
      "\n"
     ]
    },
    {
     "data": {
      "image/png": "[encoded data removed]",
      "text/plain": [
       "<Figure size 432x288 with 1 Axes>"
      ]
     },
     "metadata": {
      "needs_background": "light"
     },
     "output_type": "display_data"
    }
   ],
   "source": [
    "# Undersampling model\n",
    "lr = LogisticRegression(solver = 'liblinear',max_iter=500)\n",
    "\n",
    "\n",
    "imb_predict(lr,X_train_us,X_test,y_train_us,y_test)"
   ]
  },
  {
   "cell_type": "code",
   "execution_count": 81,
   "metadata": {
    "scrolled": false
   },
   "outputs": [
    {
     "name": "stdout",
     "output_type": "stream",
     "text": [
      "lr \n",
      " [[7421 2293]\n",
      " [1932 3183]]\n",
      "lr_pred acc 0.7150853058196777\n",
      "lr_pred auc score  0.7837315150750366\n",
      "dt \n",
      " [[6685 3029]\n",
      " [1587 3528]]\n",
      "dt_pred acc 0.688718052464765\n",
      "dt_pred auc score  0.6889590378671653\n",
      "knn \n",
      " [[7335 2379]\n",
      " [1654 3461]]\n",
      "knn_pred acc 0.7280329084901207\n",
      "knn_pred auc score  0.7660901489339991\n",
      "rf \n",
      " [[7449 2265]\n",
      " [1687 3428]]\n",
      "rf_pred acc 0.7334951783667139\n",
      "rf_pred auc score  0.7803212945973312\n",
      "GaussianNB \n",
      " [[7680 2034]\n",
      " [3065 2050]]\n",
      "GaussianNB_pred acc 0.6561467394969317\n",
      "GaussianNB_pred auc score  0.6646433249991799\n"
     ]
    }
   ],
   "source": [
    "prediction(X_train_us, X_test, y_train_us, y_test)"
   ]
  },
  {
   "cell_type": "code",
   "execution_count": 82,
   "metadata": {},
   "outputs": [
    {
     "name": "stdout",
     "output_type": "stream",
     "text": [
      "Accuracy Score:  0.7391597545350327\n",
      "AUC: 0.8070402162653452\n",
      "              precision    recall  f1-score   support\n",
      "\n",
      "           0       0.85      0.74      0.79      9714\n",
      "           1       0.60      0.74      0.66      5115\n",
      "\n",
      "    accuracy                           0.74     14829\n",
      "   macro avg       0.72      0.74      0.73     14829\n",
      "weighted avg       0.76      0.74      0.74     14829\n",
      "\n"
     ]
    },
    {
     "data": {
      "image/png": "[encoded data removed]",
      "text/plain": [
       "<Figure size 432x288 with 1 Axes>"
      ]
     },
     "metadata": {
      "needs_background": "light"
     },
     "output_type": "display_data"
    }
   ],
   "source": [
    "\n",
    "rf = RandomForestClassifier(n_estimators=25)\n",
    "\n",
    "imb_predict(rf,X_train_us, X_test, y_train_us, y_test)  # since this has higher roc auc score"
   ]
  },
  {
   "cell_type": "code",
   "execution_count": 83,
   "metadata": {},
   "outputs": [
    {
     "name": "stdout",
     "output_type": "stream",
     "text": [
      "Accuracy Score:  0.7341695326724661\n",
      "AUC: 0.8028808276432259\n",
      "              precision    recall  f1-score   support\n",
      "\n",
      "           0       0.85      0.73      0.78      9714\n",
      "           1       0.59      0.75      0.66      5115\n",
      "\n",
      "    accuracy                           0.73     14829\n",
      "   macro avg       0.72      0.74      0.72     14829\n",
      "weighted avg       0.76      0.73      0.74     14829\n",
      "\n"
     ]
    },
    {
     "data": {
      "image/png": "[encoded data removed]",
      "text/plain": [
       "<Figure size 432x288 with 1 Axes>"
      ]
     },
     "metadata": {
      "needs_background": "light"
     },
     "output_type": "display_data"
    }
   ],
   "source": [
    "dt = DecisionTreeClassifier(max_depth= 5)\n",
    "\n",
    "imb_predict(rf,X_train_us, X_test, y_train_us, y_test)  # since this has higher roc auc score"
   ]
  },
  {
   "cell_type": "code",
   "execution_count": 84,
   "metadata": {},
   "outputs": [
    {
     "name": "stdout",
     "output_type": "stream",
     "text": [
      "Accuracy Score:  0.7150853058196777\n",
      "AUC: 0.7837315150750366\n",
      "              precision    recall  f1-score   support\n",
      "\n",
      "           0       0.79      0.76      0.78      9714\n",
      "           1       0.58      0.62      0.60      5115\n",
      "\n",
      "    accuracy                           0.72     14829\n",
      "   macro avg       0.69      0.69      0.69     14829\n",
      "weighted avg       0.72      0.72      0.72     14829\n",
      "\n"
     ]
    },
    {
     "data": {
      "image/png": "[encoded data removed]",
      "text/plain": [
       "<Figure size 432x288 with 1 Axes>"
      ]
     },
     "metadata": {
      "needs_background": "light"
     },
     "output_type": "display_data"
    }
   ],
   "source": [
    "# Over sampling\n",
    "\n",
    "X_train, X_test, y_train, y_test = train_test_split(X, y, test_size=0.33, random_state=42)    \n",
    "xy_train = pd.concat([X_train,y_train],1)\n",
    "\n",
    "\n",
    "Xy_train=pd.concat([X_train,y_train],axis=1)\n",
    "\n",
    "Xy_train0=Xy_train[Xy_train['Order Priority']==0]\n",
    "Xy_train1=Xy_train[Xy_train['Order Priority']==1]\n",
    "\n",
    "len1 = len(Xy_train1)\n",
    "len0 = len(Xy_train0)\n",
    "\n",
    "Xy_train1_os = Xy_train1.sample(n=len0,replace=True)\n",
    "\n",
    "Xy_train_os = pd.concat([Xy_train0,Xy_train1_os],axis=0)\n",
    "\n",
    "X_train_os = Xy_train_us.drop('Order Priority',1)\n",
    "y_train_os = Xy_train_us['Order Priority']\n",
    "\n",
    "\n",
    "imb_predict(lr,X_train_os,X_test,y_train_os,y_test)"
   ]
  },
  {
   "cell_type": "code",
   "execution_count": 85,
   "metadata": {},
   "outputs": [
    {
     "name": "stdout",
     "output_type": "stream",
     "text": [
      "lr \n",
      " [[7421 2293]\n",
      " [1932 3183]]\n",
      "lr_pred acc 0.7150853058196777\n",
      "lr_pred auc score  0.7837315150750366\n",
      "dt \n",
      " [[6714 3000]\n",
      " [1559 3556]]\n",
      "dt_pred acc 0.6925618720075528\n",
      "dt_pred auc score  0.6931887767270023\n",
      "knn \n",
      " [[7335 2379]\n",
      " [1654 3461]]\n",
      "knn_pred acc 0.7280329084901207\n",
      "knn_pred auc score  0.7660901489339991\n",
      "rf \n",
      " [[7376 2338]\n",
      " [1719 3396]]\n",
      "rf_pred acc 0.7264144581563153\n",
      "rf_pred auc score  0.7750712810626338\n",
      "GaussianNB \n",
      " [[7680 2034]\n",
      " [3065 2050]]\n",
      "GaussianNB_pred acc 0.6561467394969317\n",
      "GaussianNB_pred auc score  0.6646433249991799\n"
     ]
    }
   ],
   "source": [
    "prediction(X_train_os,X_test,y_train_os,y_test)"
   ]
  },
  {
   "cell_type": "code",
   "execution_count": 86,
   "metadata": {},
   "outputs": [
    {
     "name": "stdout",
     "output_type": "stream",
     "text": [
      "Accuracy Score:  0.7376761750623778\n",
      "AUC: 0.8040027282729867\n",
      "              precision    recall  f1-score   support\n",
      "\n",
      "           0       0.85      0.73      0.79      9714\n",
      "           1       0.60      0.75      0.66      5115\n",
      "\n",
      "    accuracy                           0.74     14829\n",
      "   macro avg       0.72      0.74      0.72     14829\n",
      "weighted avg       0.76      0.74      0.74     14829\n",
      "\n"
     ]
    },
    {
     "data": {
      "image/png": "[encoded data removed]",
      "text/plain": [
       "<Figure size 432x288 with 1 Axes>"
      ]
     },
     "metadata": {
      "needs_background": "light"
     },
     "output_type": "display_data"
    }
   ],
   "source": [
    "\n",
    "rf = RandomForestClassifier(n_estimators=25)\n",
    "\n",
    "imb_predict(rf,X_train_os, X_test, y_train_os, y_test)  # since this has higher roc auc score"
   ]
  },
  {
   "cell_type": "code",
   "execution_count": 87,
   "metadata": {},
   "outputs": [
    {
     "name": "stdout",
     "output_type": "stream",
     "text": [
      "Accuracy Score:  0.7372715624789264\n",
      "AUC: 0.803823738188838\n",
      "              precision    recall  f1-score   support\n",
      "\n",
      "           0       0.85      0.73      0.79      9714\n",
      "           1       0.60      0.75      0.66      5115\n",
      "\n",
      "    accuracy                           0.74     14829\n",
      "   macro avg       0.72      0.74      0.72     14829\n",
      "weighted avg       0.76      0.74      0.74     14829\n",
      "\n"
     ]
    },
    {
     "data": {
      "image/png": "[encoded data removed]",
      "text/plain": [
       "<Figure size 432x288 with 1 Axes>"
      ]
     },
     "metadata": {
      "needs_background": "light"
     },
     "output_type": "display_data"
    }
   ],
   "source": [
    "dt = DecisionTreeClassifier(max_depth= 5)\n",
    "\n",
    "imb_predict(rf,X_train_os, X_test, y_train_os, y_test)  # since this has higher roc auc score"
   ]
  },
  {
   "cell_type": "code",
   "execution_count": 88,
   "metadata": {},
   "outputs": [],
   "source": [
    "# Smote\n",
    "\n",
    "from imblearn.over_sampling import SMOTE\n",
    "\n",
    "smote = SMOTE(ratio = 'minority')\n",
    "X_train_sm, y_train_sm = smote.fit_sample(X_train, y_train)"
   ]
  },
  {
   "cell_type": "code",
   "execution_count": 89,
   "metadata": {},
   "outputs": [
    {
     "name": "stdout",
     "output_type": "stream",
     "text": [
      "Accuracy Score:  0.7165014498617573\n",
      "AUC: 0.7825129092837156\n",
      "              precision    recall  f1-score   support\n",
      "\n",
      "           0       0.79      0.76      0.78      9714\n",
      "           1       0.58      0.62      0.60      5115\n",
      "\n",
      "    accuracy                           0.72     14829\n",
      "   macro avg       0.69      0.69      0.69     14829\n",
      "weighted avg       0.72      0.72      0.72     14829\n",
      "\n"
     ]
    },
    {
     "data": {
      "image/png": "[encoded data removed]",
      "text/plain": [
       "<Figure size 432x288 with 1 Axes>"
      ]
     },
     "metadata": {
      "needs_background": "light"
     },
     "output_type": "display_data"
    }
   ],
   "source": [
    "imb_predict(lr,X_train_sm,X_test, y_train_sm,y_test)"
   ]
  },
  {
   "cell_type": "code",
   "execution_count": 90,
   "metadata": {},
   "outputs": [
    {
     "name": "stdout",
     "output_type": "stream",
     "text": [
      "lr \n",
      " [[7431 2283]\n",
      " [1921 3194]]\n",
      "lr_pred acc 0.7165014498617573\n",
      "lr_pred auc score  0.7825129092837156\n",
      "dt \n",
      " [[7567 2147]\n",
      " [2017 3098]]\n",
      "dt_pred acc 0.7191988670847663\n",
      "dt_pred auc score  0.6923241963559563\n",
      "knn \n",
      " [[7172 2542]\n",
      " [1714 3401]]\n",
      "knn_pred acc 0.7129948074718457\n",
      "knn_pred auc score  0.7539825419510211\n",
      "rf \n",
      " [[8469 1245]\n",
      " [2598 2517]]\n",
      "rf_pred acc 0.7408456402994134\n",
      "rf_pred auc score  0.7791729484769792\n",
      "GaussianNB \n",
      " [[7086 2628]\n",
      " [2244 2871]]\n",
      "GaussianNB_pred acc 0.6714545822375075\n",
      "GaussianNB_pred auc score  0.6539536612211899\n"
     ]
    }
   ],
   "source": [
    "prediction(X_train_sm,X_test, y_train_sm,y_test)"
   ]
  },
  {
   "cell_type": "code",
   "execution_count": 91,
   "metadata": {},
   "outputs": [
    {
     "name": "stdout",
     "output_type": "stream",
     "text": [
      "Accuracy Score:  0.749477375413042\n",
      "AUC: 0.7980850063527543\n",
      "              precision    recall  f1-score   support\n",
      "\n",
      "           0       0.78      0.86      0.82      9714\n",
      "           1       0.67      0.54      0.60      5115\n",
      "\n",
      "    accuracy                           0.75     14829\n",
      "   macro avg       0.72      0.70      0.71     14829\n",
      "weighted avg       0.74      0.75      0.74     14829\n",
      "\n"
     ]
    },
    {
     "data": {
      "image/png": "[encoded data removed]",
      "text/plain": [
       "<Figure size 432x288 with 1 Axes>"
      ]
     },
     "metadata": {
      "needs_background": "light"
     },
     "output_type": "display_data"
    }
   ],
   "source": [
    "rf = RandomForestClassifier(n_estimators=20)\n",
    "\n",
    "imb_predict(rf,X_train_sm,X_test, y_train_sm,y_test)"
   ]
  },
  {
   "cell_type": "code",
   "execution_count": 92,
   "metadata": {},
   "outputs": [
    {
     "name": "stdout",
     "output_type": "stream",
     "text": [
      "Accuracy Score:  0.7556814350259626\n",
      "AUC: 0.8082099260753945\n",
      "              precision    recall  f1-score   support\n",
      "\n",
      "           0       0.83      0.78      0.81      9714\n",
      "           1       0.63      0.70      0.66      5115\n",
      "\n",
      "    accuracy                           0.76     14829\n",
      "   macro avg       0.73      0.74      0.74     14829\n",
      "weighted avg       0.76      0.76      0.76     14829\n",
      "\n"
     ]
    },
    {
     "data": {
      "image/png": "[encoded data removed]",
      "text/plain": [
       "<Figure size 432x288 with 1 Axes>"
      ]
     },
     "metadata": {
      "needs_background": "light"
     },
     "output_type": "display_data"
    }
   ],
   "source": [
    "dt = DecisionTreeClassifier(max_depth=10)\n",
    "\n",
    "imb_predict(dt,X_train_sm,X_test, y_train_sm,y_test)"
   ]
  },
  {
   "cell_type": "code",
   "execution_count": 93,
   "metadata": {},
   "outputs": [
    {
     "data": {
      "text/plain": [
       "['Sales',\n",
       " 'Discount',\n",
       " 'Profit',\n",
       " 'Shipping Cost',\n",
       " 'Ship Mode_Same Day',\n",
       " 'Ship Mode_Second Class',\n",
       " 'Ship Mode_Standard Class',\n",
       " 'Segment_Corporate',\n",
       " 'Segment_Home Office',\n",
       " 'Category_Office Supplies',\n",
       " 'Category_Technology',\n",
       " 'Quantity_2',\n",
       " 'Quantity_3',\n",
       " 'Quantity_4',\n",
       " 'Quantity_5',\n",
       " 'Quantity_6',\n",
       " 'Quantity_7',\n",
       " 'Quantity_8',\n",
       " 'Quantity_9',\n",
       " 'Quantity_10',\n",
       " 'Quantity_11',\n",
       " 'Quantity_12',\n",
       " 'Quantity_13',\n",
       " 'Quantity_14']"
      ]
     },
     "execution_count": 93,
     "metadata": {},
     "output_type": "execute_result"
    }
   ],
   "source": [
    "from IPython.display import Image\n",
    "from sklearn.externals.six import StringIO\n",
    "from sklearn.tree import export_graphviz\n",
    "import pydotplus\n",
    "\n",
    "#putting features\n",
    "features = list(X.columns)\n",
    "features"
   ]
  },
  {
   "cell_type": "markdown",
   "metadata": {},
   "source": [
    "##### Decision tree plot"
   ]
  },
  {
   "cell_type": "code",
   "execution_count": 94,
   "metadata": {},
   "outputs": [
    {
     "name": "stdout",
     "output_type": "stream",
     "text": [
      "Accuracy Score:  0.6953941600917122\n",
      "AUC: 0.7000374241931157\n",
      "              precision    recall  f1-score   support\n",
      "\n",
      "           0       0.77      0.77      0.77      9714\n",
      "           1       0.56      0.56      0.56      5115\n",
      "\n",
      "    accuracy                           0.70     14829\n",
      "   macro avg       0.66      0.66      0.66     14829\n",
      "weighted avg       0.70      0.70      0.70     14829\n",
      "\n"
     ]
    },
    {
     "data": {
      "image/png": "[encoded data removed]",
      "text/plain": [
       "<Figure size 432x288 with 1 Axes>"
      ]
     },
     "metadata": {
      "needs_background": "light"
     },
     "output_type": "display_data"
    }
   ],
   "source": [
    "dt = DecisionTreeClassifier(max_depth= 3)\n",
    "\n",
    "imb_predict(dt,X_train_os, X_test, y_train_os, y_test)  # since this has higher roc auc score"
   ]
  },
  {
   "cell_type": "code",
   "execution_count": 72,
   "metadata": {},
   "outputs": [
    {
     "data": {
      "image/png": "[encoded data removed]",
      "text/plain": [
       "<IPython.core.display.Image object>"
      ]
     },
     "execution_count": 72,
     "metadata": {},
     "output_type": "execute_result"
    }
   ],
   "source": [
    "#Create Dot data\n",
    "dot_data = export_graphviz(dt,out_file = None,feature_names=features,class_names=['Medium','High'])\n",
    "\n",
    "graph =pydotplus.graph_from_dot_data(dot_data)\n",
    "Image(graph.create_png())"
   ]
  },
  {
   "cell_type": "markdown",
   "metadata": {},
   "source": [
    "##### Bagging "
   ]
  },
  {
   "cell_type": "code",
   "execution_count": 56,
   "metadata": {},
   "outputs": [],
   "source": [
    "clf1 = DecisionTreeClassifier(criterion='entropy', max_depth=1)\n",
    "clf2 = KNeighborsClassifier(n_neighbors=1)    \n",
    "\n",
    "bagging1 = BaggingClassifier(base_estimator=clf1, n_estimators=10, max_samples=0.8, max_features=0.8)\n",
    "bagging2 = BaggingClassifier(base_estimator=clf2, n_estimators=10, max_samples=0.8, max_features=0.8)"
   ]
  },
  {
   "cell_type": "code",
   "execution_count": 58,
   "metadata": {},
   "outputs": [
    {
     "name": "stdout",
     "output_type": "stream",
     "text": [
      "Accuracy: 0.67 (+/- 0.01) [Decision Tree]\n",
      "Accuracy: 0.67 (+/- 0.01) [Bagging Tree]\n"
     ]
    },
    {
     "data": {
      "text/plain": [
       "<Figure size 720x576 with 0 Axes>"
      ]
     },
     "metadata": {},
     "output_type": "display_data"
    }
   ],
   "source": [
    "label = ['Decision Tree','Bagging Tree']\n",
    "clf_list = [clf1,bagging1]\n",
    "\n",
    "X = np.array(X)\n",
    "y = np.array(y)\n",
    "\n",
    "\n",
    "fig = plt.figure(figsize=(10, 8))\n",
    "gs = gridspec.GridSpec(2, 2)\n",
    "grid = itertools.product([0,1],repeat=2)\n",
    "\n",
    "for clf, label, grd in zip(clf_list, label, grid):        \n",
    "    scores = cross_val_score(clf, X, y, cv=3, scoring='accuracy')\n",
    "    print (\"Accuracy: %.2f (+/- %.2f) [%s]\" %(scores.mean(), scores.std(), label))"
   ]
  },
  {
   "cell_type": "code",
   "execution_count": 100,
   "metadata": {},
   "outputs": [
    {
     "data": {
      "image/png": "[encoded data removed]",
      "text/plain": [
       "<Figure size 432x288 with 1 Axes>"
      ]
     },
     "metadata": {
      "needs_background": "light"
     },
     "output_type": "display_data"
    }
   ],
   "source": [
    "#plot learning curves\n",
    "X = fin.drop('Order Priority',1)\n",
    "y = fin['Order Priority']\n",
    "X_train, X_test, y_train, y_test = train_test_split(X, y, test_size=0.3, random_state=42)\n",
    "    \n",
    "plt.figure()\n",
    "plot_learning_curves(X_train, y_train, X_test, y_test, bagging1, print_model=False, style='ggplot')\n",
    "plt.show()"
   ]
  },
  {
   "cell_type": "code",
   "execution_count": 162,
   "metadata": {},
   "outputs": [
    {
     "name": "stdout",
     "output_type": "stream",
     "text": [
      "Accuracy: 0.67 (+/- 0.00) [Decision Tree]\n",
      "Accuracy: 0.67 (+/- 0.02) [Bagging Tree]\n",
      "Accuracy: 0.75 (+/- 0.00) [knn]\n",
      "Accuracy: 0.75 (+/- 0.01) [bagging knn]\n",
      "Accuracy: 0.72 (+/- 0.00) [logit]\n",
      "Accuracy: 0.72 (+/- 0.01) [bagging logit]\n"
     ]
    }
   ],
   "source": [
    "clf1 = DecisionTreeClassifier(criterion='entropy', max_depth=1)\n",
    "clf2 = KNeighborsClassifier(n_neighbors=5)\n",
    "clf3 = LogisticRegression()\n",
    "\n",
    "bagging1 = BaggingClassifier(base_estimator=clf1, n_estimators=10, max_samples=0.8, max_features=0.8)\n",
    "bagging2 = BaggingClassifier(base_estimator=clf2, n_estimators=10, max_samples=0.8, max_features=0.8)\n",
    "bagging3 = BaggingClassifier(base_estimator=clf3, n_estimators=10, max_samples=0.8, max_features=0.8)\n",
    "label = ['Decision Tree','Bagging Tree','knn','bagging knn','logit','bagging logit']\n",
    "clf_list = [clf1,bagging1,clf2,bagging2,clf3,bagging3]\n",
    "grid = itertools.product([0,1],repeat=3)\n",
    "\n",
    "for clf, label, grd in zip(clf_list, label, grid):        \n",
    "    scores =cross_val_score(clf, X_train, y_train, cv=3, scoring='accuracy')\n",
    "    print (\"Accuracy: %.2f (+/- %.2f) [%s]\" %(scores.mean(), scores.std(), label))   "
   ]
  },
  {
   "cell_type": "code",
   "execution_count": 102,
   "metadata": {},
   "outputs": [
    {
     "data": {
      "image/png": "[encoded data removed]",
      "text/plain": [
       "<Figure size 432x288 with 1 Axes>"
      ]
     },
     "metadata": {
      "needs_background": "light"
     },
     "output_type": "display_data"
    }
   ],
   "source": [
    "#plotting learning curves\n",
    "X_train, X_test, y_train, y_test = train_test_split(X, y, test_size=0.3, random_state=42)\n",
    "    \n",
    "plt.figure()\n",
    "plot_learning_curves(X_train, y_train, X_test, y_test, bagging1, print_model=False, style='ggplot')\n",
    "plt.show()"
   ]
  },
  {
   "cell_type": "markdown",
   "metadata": {},
   "source": [
    "##### Boosting"
   ]
  },
  {
   "cell_type": "code",
   "execution_count": 103,
   "metadata": {},
   "outputs": [],
   "source": [
    "X = np.array(X)\n",
    "y =np.array(y)"
   ]
  },
  {
   "cell_type": "code",
   "execution_count": 173,
   "metadata": {},
   "outputs": [
    {
     "name": "stdout",
     "output_type": "stream",
     "text": [
      "Accuracy: 0.67 (+/- 0.01) [Decision Tree]\n",
      "Accuracy: 0.71 (+/- 0.01) [Bos_Tree]\n",
      "Accuracy: 0.72 (+/- 0.01) [logistic]\n",
      "Accuracy: 0.70 (+/- 0.01) [bos_log]\n"
     ]
    }
   ],
   "source": [
    "clf1 = DecisionTreeClassifier(max_depth=1)\n",
    "clf2 = LogisticRegression()\n",
    "\n",
    "\n",
    "\n",
    "boster1 = AdaBoostClassifier(base_estimator=clf1, n_estimators=10)\n",
    "boster2 = AdaBoostClassifier(base_estimator=clf2, n_estimators=10)\n",
    "\n",
    "\n",
    "label = ['Decision Tree','Bos_Tree','logistic','bos_log']\n",
    "clf_list = [clf1,boster1,clf2,boster2]\n",
    "grid = itertools.product([0,1],repeat=4)\n",
    "\n",
    "for clf, label, grd in zip(clf_list, label, grid):        \n",
    "    scores =cross_val_score(clf,X_train,y_train, cv=10)\n",
    "    print (\"Accuracy: %.2f (+/- %.2f) [%s]\" %(scores.mean(), scores.std(), label))\n",
    "        \n",
    "    clf.fit(X_train, y_train)\n",
    "    "
   ]
  },
  {
   "cell_type": "code",
   "execution_count": 174,
   "metadata": {},
   "outputs": [
    {
     "data": {
      "image/png": "[encoded data removed]",
      "text/plain": [
       "<Figure size 432x288 with 1 Axes>"
      ]
     },
     "metadata": {
      "needs_background": "light"
     },
     "output_type": "display_data"
    }
   ],
   "source": [
    "#plot learning curves\n",
    "X_train, X_test, y_train, y_test = train_test_split(X, y, test_size=0.3, random_state=0)\n",
    "\n",
    "boosting = AdaBoostClassifier(base_estimator=clf, n_estimators=10)\n",
    "        \n",
    "plt.figure()\n",
    "plot_learning_curves(X_train, y_train, X_test, y_test, boosting, print_model=False, style='ggplot')\n",
    "plt.show()"
   ]
  },
  {
   "cell_type": "markdown",
   "metadata": {},
   "source": [
    "##### Gradient Boosting"
   ]
  },
  {
   "cell_type": "code",
   "execution_count": 175,
   "metadata": {},
   "outputs": [
    {
     "data": {
      "text/plain": [
       "GradientBoostingClassifier(criterion='friedman_mse', init=None,\n",
       "                           learning_rate=0.1, loss='deviance', max_depth=3,\n",
       "                           max_features=None, max_leaf_nodes=None,\n",
       "                           min_impurity_decrease=0.0, min_impurity_split=None,\n",
       "                           min_samples_leaf=1, min_samples_split=2,\n",
       "                           min_weight_fraction_leaf=0.0, n_estimators=1000,\n",
       "                           n_iter_no_change=None, presort='auto',\n",
       "                           random_state=3, subsample=1.0, tol=0.0001,\n",
       "                           validation_fraction=0.1, verbose=0,\n",
       "                           warm_start=False)"
      ]
     },
     "execution_count": 175,
     "metadata": {},
     "output_type": "execute_result"
    }
   ],
   "source": [
    "from sklearn.ensemble import GradientBoostingClassifier\n",
    "boost_clf = GradientBoostingClassifier(n_estimators=1000,\n",
    "                                      random_state=3)\n",
    "boost_clf.fit(X_train,y_train)"
   ]
  },
  {
   "cell_type": "code",
   "execution_count": 176,
   "metadata": {},
   "outputs": [
    {
     "name": "stdout",
     "output_type": "stream",
     "text": [
      "0.8325755889740247\n",
      "0.7975669460722499\n"
     ]
    }
   ],
   "source": [
    "print(boost_clf.score(X_train,y_train))\n",
    "print(boost_clf.score(X_test,y_test))"
   ]
  },
  {
   "cell_type": "markdown",
   "metadata": {},
   "source": [
    "##### Ada boosting"
   ]
  },
  {
   "cell_type": "markdown",
   "metadata": {},
   "source": [
    "##### Decsion Tree classifier"
   ]
  },
  {
   "cell_type": "code",
   "execution_count": 160,
   "metadata": {},
   "outputs": [
    {
     "data": {
      "text/plain": [
       "AdaBoostClassifier(algorithm='SAMME.R',\n",
       "                   base_estimator=DecisionTreeClassifier(class_weight=None,\n",
       "                                                         criterion='gini',\n",
       "                                                         max_depth=3,\n",
       "                                                         max_features=None,\n",
       "                                                         max_leaf_nodes=None,\n",
       "                                                         min_impurity_decrease=0.0,\n",
       "                                                         min_impurity_split=None,\n",
       "                                                         min_samples_leaf=1,\n",
       "                                                         min_samples_split=2,\n",
       "                                                         min_weight_fraction_leaf=0.0,\n",
       "                                                         presort=False,\n",
       "                                                         random_state=None,\n",
       "                                                         splitter='best'),\n",
       "                   learning_rate=0.08, n_estimators=100, random_state=0)"
      ]
     },
     "execution_count": 160,
     "metadata": {},
     "output_type": "execute_result"
    }
   ],
   "source": [
    "from sklearn.ensemble import AdaBoostClassifier\n",
    "\n",
    "ada_clf=AdaBoostClassifier(base_estimator=DecisionTreeClassifier(max_depth=3), learning_rate= 0.08,\n",
    "        n_estimators=100, random_state=0)\n",
    "ada_clf.fit(X_train, y_train)"
   ]
  },
  {
   "cell_type": "code",
   "execution_count": 177,
   "metadata": {},
   "outputs": [
    {
     "name": "stdout",
     "output_type": "stream",
     "text": [
      "0.7942962515499317\n",
      "0.7851791410132779\n"
     ]
    }
   ],
   "source": [
    "print(ada_clf.score(X_train, y_train))\n",
    "print(ada_clf.score(X_test, y_test))"
   ]
  },
  {
   "cell_type": "markdown",
   "metadata": {},
   "source": [
    "##### Random forest ada boost"
   ]
  },
  {
   "cell_type": "code",
   "execution_count": 182,
   "metadata": {},
   "outputs": [
    {
     "data": {
      "text/plain": [
       "AdaBoostClassifier(algorithm='SAMME.R',\n",
       "                   base_estimator=RandomForestClassifier(bootstrap=True,\n",
       "                                                         class_weight=None,\n",
       "                                                         criterion='gini',\n",
       "                                                         max_depth=None,\n",
       "                                                         max_features='auto',\n",
       "                                                         max_leaf_nodes=None,\n",
       "                                                         min_impurity_decrease=0.0,\n",
       "                                                         min_impurity_split=None,\n",
       "                                                         min_samples_leaf=1,\n",
       "                                                         min_samples_split=2,\n",
       "                                                         min_weight_fraction_leaf=0.0,\n",
       "                                                         n_estimators=10,\n",
       "                                                         n_jobs=None,\n",
       "                                                         oob_score=False,\n",
       "                                                         random_state=None,\n",
       "                                                         verbose=0,\n",
       "                                                         warm_start=False),\n",
       "                   learning_rate=0.08, n_estimators=100, random_state=0)"
      ]
     },
     "execution_count": 182,
     "metadata": {},
     "output_type": "execute_result"
    }
   ],
   "source": [
    "ada_clf=AdaBoostClassifier(base_estimator=RandomForestClassifier(n_estimators=10), learning_rate=0.08,\n",
    "        n_estimators=100, random_state=0)\n",
    "ada_clf.fit(X_train, y_train)"
   ]
  },
  {
   "cell_type": "code",
   "execution_count": 183,
   "metadata": {},
   "outputs": [
    {
     "name": "stdout",
     "output_type": "stream",
     "text": [
      "1.0\n",
      "0.7503152585119798\n"
     ]
    }
   ],
   "source": [
    "print(ada_clf.score(X_train, y_train))\n",
    "print(ada_clf.score(X_test, y_test))\n"
   ]
  },
  {
   "cell_type": "code",
   "execution_count": null,
   "metadata": {},
   "outputs": [],
   "source": []
  }
 ],
 "metadata": {
  "kernelspec": {
   "display_name": "Python 3",
   "language": "python",
   "name": "python3"
  },
  "language_info": {
   "codemirror_mode": {
    "name": "ipython",
    "version": 3
   },
   "file_extension": ".py",
   "mimetype": "text/x-python",
   "name": "python",
   "nbconvert_exporter": "python",
   "pygments_lexer": "ipython3",
   "version": "3.7.6"
  }
 },
 "nbformat": 4,
 "nbformat_minor": 2
}
